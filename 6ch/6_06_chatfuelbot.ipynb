{
 "cells": [
  {
   "cell_type": "markdown",
   "metadata": {},
   "source": [
    "# Pizza Ordering Bot using Chatfuel "
   ]
  },
  {
   "cell_type": "markdown",
   "metadata": {},
   "source": [
    "### Creating a simple chatbot using chatfuel for a Facebook Page\n",
    "#### *this bot has no intelligence in terms of NLP but is a good starting point for creating very simple chatbots"
   ]
  },
  {
   "cell_type": "markdown",
   "metadata": {},
   "source": [
    "For this you will need an account on facebook, create a page on facebook this is where we will deploy our chatbot.\n",
    "Visit chatfuel's official website where you will be asked to log in with you facebook account and you will have to give the necessary permissions. Choose the page which you want to deploy the chatbot for.\n",
    "\n",
    "#### Creating the bot \n",
    "After choosing the page on which the chatbot is to be deployed, you will get a short tutorial on how the automation and blocks work.\n",
    "Cards named \"TO-DO\" will guide you in understanding what basic elements you can use in creating the chatbots.\n",
    "\n",
    "We are going to make a simple chatbot which will allow the user to select from a given set of options though bots built using chatfuel can have AI and NLP this is beyond the scope of this discussion and you can do through the docmentation for these it's fairly simple.\n",
    "Note that this is the simplest form of the chatbot in which the user isnt actually talking with the bot(texting) but just selecting one of the options which the bot provides.\n",
    "\n",
    "Here we are going to use a lot of 'blocks', so basically blocks are parts of the script of the bot to which the bot navigates based on what option the user selects.\n",
    "\n",
    "![your welcome text](Images/welcome.png)"
   ]
  },
  {
   "cell_type": "markdown",
   "metadata": {},
   "source": [
    "In this basic example we are using chatfuel to make a bot which takes a pizza order. \n",
    "The user will have the choice between three sizes of pizza - small, medium and large and each of this will have 3 options for toppings -  onion , extra-cheese or both.\n",
    "\n",
    "In the above image you can see the first welcome message our chatbot will send when a user starts a conversation with the bot. You can change the text in the text-box as per your requirement. \n",
    "\n",
    "The 'add button' option below the text allows you to provide options to the user after the text in box above has been displayed, in the above image the blue part represents the option that the user would see andthe part highlighted in grey is the block to which the bot will jump to when the user selects that option.\n",
    "\n",
    "For example when the user selects the order pizza option, the bot jumps to the 'size' block , the sixe block is shown in the following image\n",
    "\n",
    "![the size block](Images/options.png)"
   ]
  },
  {
   "cell_type": "markdown",
   "metadata": {},
   "source": [
    "similarly , if the number of options which result in differnt response of the bot is more then the number of blocks will also incrase. you can travel back and forth between blocks using appropriate redirection using the options or explicit redirection using the reedirection element.\n",
    "other elements such as 'typing','image','quick reply' are used to make the texting experience more realistic.\n",
    "\n",
    "in our case we have 3 sizes of pizzas and each size has 3 topping choices , so we will need atleaast 9 blocks to handle all the differnt outcomes, and a few extra to handle the other cases.\n",
    "\n",
    "here are few samples of how the bot will function.\n",
    "\n",
    "![ex1](Images/bot1.png)\n",
    "![ex1](Images/bot2.png)\n",
    "![ex1](Images/bot3.png)"
   ]
  },
  {
   "cell_type": "code",
   "execution_count": null,
   "metadata": {},
   "outputs": [],
   "source": []
  }
 ],
 "metadata": {
  "kernelspec": {
   "display_name": "Python 3",
   "language": "python",
   "name": "python3"
  },
  "language_info": {
   "codemirror_mode": {
    "name": "ipython",
    "version": 3
   },
   "file_extension": ".py",
   "mimetype": "text/x-python",
   "name": "python",
   "nbconvert_exporter": "python",
   "pygments_lexer": "ipython3",
   "version": "3.7.4"
  }
 },
 "nbformat": 4,
 "nbformat_minor": 2
}
