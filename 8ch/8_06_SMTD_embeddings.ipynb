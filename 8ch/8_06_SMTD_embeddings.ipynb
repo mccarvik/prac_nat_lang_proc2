{
 "cells": [
  {
   "cell_type": "markdown",
   "metadata": {},
   "source": [
    "In this notebook we will be using the smtd_preprocessing.py file which is a preprocessing pileline for twitter data to pre-process our tweets and then train our own twitter embeddings. <br>\n",
    "We can find pre-trained twitter embedding \n"
   ]
  },
  {
   "cell_type": "code",
   "execution_count": 22,
   "metadata": {},
   "outputs": [],
   "source": [
    "import os\n",
    "import sys\n",
    "import pandas as pd\n",
    "from gensim.models import Word2Vec\n",
    "import warnings\n",
    "warnings.filterwarnings('ignore')\n",
    "\n",
    "from nltk.tokenize import TweetTokenizer\n",
    "tweet_tokenizer = TweetTokenizer()\n",
    "\n",
    "# PATH = \"\"\n",
    "# preprocessing_path = \"O5smtd_preprocessing.py\"\n",
    "# sys.path.append(os.path.abspath(\"./\"))\n",
    "# import O5_smtd_preprocessing\n",
    "\n",
    "PATH = \"./\"\n",
    "preprocessing_path = PATH+\"smtd_preprocessing.py\"\n",
    "sys.path.append(os.path.abspath(preprocessing_path))\n",
    "import smtd_preprocessing\n"
   ]
  },
  {
   "cell_type": "markdown",
   "metadata": {},
   "source": [
    "Let's use the dir() function to find all the properties and methods in the package."
   ]
  },
  {
   "cell_type": "code",
   "execution_count": 23,
   "metadata": {},
   "outputs": [
    {
     "data": {
      "text/plain": [
       "['Entity',\n",
       " 'Punct',\n",
       " 'PunctChars',\n",
       " 'TweetTokenizer',\n",
       " '__builtins__',\n",
       " '__cached__',\n",
       " '__doc__',\n",
       " '__file__',\n",
       " '__loader__',\n",
       " '__name__',\n",
       " '__package__',\n",
       " '__spec__',\n",
       " '__warningregistry__',\n",
       " 'deEmojify',\n",
       " 'demoji',\n",
       " 'identify_AlphaNumerics',\n",
       " 'identify_Savings',\n",
       " 'indentify_Money',\n",
       " 'indentify_Offers',\n",
       " 'indentify_Promos',\n",
       " 'indentify_freebies',\n",
       " 'neg_lookahead',\n",
       " 'optional',\n",
       " 'pos_lookahead',\n",
       " 'printable',\n",
       " 'process_BrandMentions',\n",
       " 'process_BrandName',\n",
       " 'process_Dates',\n",
       " 'process_EmailIds',\n",
       " 'process_HashTags',\n",
       " 'process_Mentions',\n",
       " 'process_NonBrandMentions',\n",
       " 'process_Times',\n",
       " 'process_TweetText',\n",
       " 'process_URLs',\n",
       " 'process_Websites',\n",
       " 'prune_multple_consecutive_same_char',\n",
       " 're',\n",
       " 'regex_or',\n",
       " 'remove_emoji',\n",
       " 'remove_spl_words',\n",
       " 'replace_numbers',\n",
       " 'string',\n",
       " 'strip_unicode',\n",
       " 'strip_whiteSpaces',\n",
       " 'to_LowerCase',\n",
       " 'trim']"
      ]
     },
     "execution_count": 23,
     "metadata": {},
     "output_type": "execute_result"
    }
   ],
   "source": [
    "dir(smtd_preprocessing)"
   ]
  },
  {
   "cell_type": "markdown",
   "metadata": {},
   "source": [
    "## Read Data\n",
    "Let's read the data. Normally in csv files the values are separated by a ','.<br> In this case, it is separated by a ';' so we will specify the delimiter as ';'."
   ]
  },
  {
   "cell_type": "code",
   "execution_count": 24,
   "metadata": {},
   "outputs": [],
   "source": [
    "datapath = \"../Data/sts_gold_tweet.csv\"\n",
    "df = pd.read_csv(datapath,on_bad_lines=\"skip\",delimiter=\";\")"
   ]
  },
  {
   "cell_type": "code",
   "execution_count": 25,
   "metadata": {},
   "outputs": [
    {
     "data": {
      "text/html": [
       "<div>\n",
       "<style scoped>\n",
       "    .dataframe tbody tr th:only-of-type {\n",
       "        vertical-align: middle;\n",
       "    }\n",
       "\n",
       "    .dataframe tbody tr th {\n",
       "        vertical-align: top;\n",
       "    }\n",
       "\n",
       "    .dataframe thead th {\n",
       "        text-align: right;\n",
       "    }\n",
       "</style>\n",
       "<table border=\"1\" class=\"dataframe\">\n",
       "  <thead>\n",
       "    <tr style=\"text-align: right;\">\n",
       "      <th></th>\n",
       "      <th>id</th>\n",
       "      <th>polarity</th>\n",
       "      <th>tweet</th>\n",
       "    </tr>\n",
       "  </thead>\n",
       "  <tbody>\n",
       "    <tr>\n",
       "      <th>0</th>\n",
       "      <td>1467933112</td>\n",
       "      <td>0</td>\n",
       "      <td>the angel is going to miss the athlete this we...</td>\n",
       "    </tr>\n",
       "    <tr>\n",
       "      <th>1</th>\n",
       "      <td>2323395086</td>\n",
       "      <td>0</td>\n",
       "      <td>It looks as though Shaq is getting traded to C...</td>\n",
       "    </tr>\n",
       "    <tr>\n",
       "      <th>2</th>\n",
       "      <td>1467968979</td>\n",
       "      <td>0</td>\n",
       "      <td>@clarianne APRIL 9TH ISN'T COMING SOON ENOUGH</td>\n",
       "    </tr>\n",
       "    <tr>\n",
       "      <th>3</th>\n",
       "      <td>1990283756</td>\n",
       "      <td>0</td>\n",
       "      <td>drinking a McDonalds coffee and not understand...</td>\n",
       "    </tr>\n",
       "    <tr>\n",
       "      <th>4</th>\n",
       "      <td>1988884918</td>\n",
       "      <td>0</td>\n",
       "      <td>So dissapointed Taylor Swift doesnt have a Twi...</td>\n",
       "    </tr>\n",
       "  </tbody>\n",
       "</table>\n",
       "</div>"
      ],
      "text/plain": [
       "           id  polarity                                              tweet\n",
       "0  1467933112         0  the angel is going to miss the athlete this we...\n",
       "1  2323395086         0  It looks as though Shaq is getting traded to C...\n",
       "2  1467968979         0     @clarianne APRIL 9TH ISN'T COMING SOON ENOUGH \n",
       "3  1990283756         0  drinking a McDonalds coffee and not understand...\n",
       "4  1988884918         0  So dissapointed Taylor Swift doesnt have a Twi..."
      ]
     },
     "execution_count": 25,
     "metadata": {},
     "output_type": "execute_result"
    }
   ],
   "source": [
    "#let's have a loof at the dataset\n",
    "df.head()"
   ]
  },
  {
   "cell_type": "code",
   "execution_count": 26,
   "metadata": {},
   "outputs": [],
   "source": [
    "#pre-process tweets using our package \n",
    "df['tweet'] = df['tweet'].apply(lambda x: smtd_preprocessing.process_TweetText(x))\n",
    "df['tweet'] = df['tweet'].apply(lambda x: tweet_tokenizer.tokenize(x))\n",
    "tweets = df['tweet'].values"
   ]
  },
  {
   "cell_type": "markdown",
   "metadata": {},
   "source": [
    "## Train Embeddings\n",
    "Let's train our own embeddings."
   ]
  },
  {
   "cell_type": "code",
   "execution_count": 27,
   "metadata": {},
   "outputs": [
    {
     "name": "stdout",
     "output_type": "stream",
     "text": [
      "CBOW Model Training Complete.\n",
      "Time taken for training is:0.10733 sec \n"
     ]
    }
   ],
   "source": [
    "#CBOW\n",
    "import time\n",
    "start = time.time()\n",
    "word2vec_tweet = Word2Vec(tweets,min_count=5, sg=0)\n",
    "end = time.time()\n",
    "\n",
    "print(\"CBOW Model Training Complete.\\nTime taken for training is:{:.5f} sec \".format((end-start)))"
   ]
  },
  {
   "cell_type": "code",
   "execution_count": 30,
   "metadata": {},
   "outputs": [
    {
     "name": "stdout",
     "output_type": "stream",
     "text": [
      "Summary of the model: Word2Vec<vocab=774, vector_size=100, alpha=0.025>\n",
      "Small part of Vocabulary of our model: ['!', '.', 'i', 'to', 'constantnonbrandmention', 'the', ',', 'and', 'a', 'my']\n",
      "Acess Vector for the word 'lol' [-0.25910544  0.14407301  0.051521    0.13794026  0.10984614 -0.3195642\n",
      "  0.059721    0.55731875 -0.24992304 -0.1105891  -0.11369446 -0.38653222\n",
      " -0.03365812  0.15672028  0.08112012 -0.1293225   0.22980613 -0.3255905\n",
      " -0.1363721  -0.5577476   0.0531457   0.05157173  0.1521731  -0.18301512\n",
      " -0.09432556 -0.00695136 -0.24593504 -0.06864514 -0.29199398 -0.01539919\n",
      "  0.29404122 -0.03904498  0.11607976 -0.17940998 -0.22065069  0.4704652\n",
      "  0.05687749 -0.21198416 -0.08619551 -0.42970744 -0.0288036  -0.1372277\n",
      " -0.22671142  0.00355149  0.27588394 -0.09007328 -0.26550582 -0.11226692\n",
      "  0.1496724   0.16877405  0.19265291 -0.19854553 -0.01025926 -0.07677138\n",
      " -0.11835463  0.07968209  0.12327638 -0.1099499  -0.22398359  0.15299219\n",
      " -0.05551803 -0.00810529  0.20368108 -0.09609725 -0.38005683  0.15275224\n",
      "  0.13969073  0.34696397 -0.363251    0.3136997  -0.07903983  0.22610074\n",
      "  0.2535815   0.09578056  0.26271245  0.10918052 -0.04084331 -0.05060324\n",
      " -0.22604948  0.04927351 -0.14105119  0.00793511 -0.18476844  0.27747977\n",
      " -0.10152537 -0.1581899   0.09967659  0.20785637  0.2888894  -0.00236637\n",
      "  0.41849923  0.19508524  0.17811638  0.12283041  0.49122378  0.28821447\n",
      "  0.19007163 -0.1817307   0.05791184 -0.12897842]\n"
     ]
    }
   ],
   "source": [
    "#Summarize the loaded model\n",
    "print(\"Summary of the model:\",word2vec_tweet)\n",
    "\n",
    "#Summarize vocabulary\n",
    "words = list(word2vec_tweet.wv.index_to_key )\n",
    "print(\"Small part of Vocabulary of our model:\",words[:10])\n",
    "\n",
    "#Acess vector for one word\n",
    "print(\"Acess Vector for the word 'lol'\",word2vec_tweet.wv['lol'])"
   ]
  },
  {
   "cell_type": "code",
   "execution_count": 31,
   "metadata": {},
   "outputs": [],
   "source": [
    "from gensim.models import Word2Vec, KeyedVectors #To load the model\n",
    "import warnings\n",
    "warnings.filterwarnings('ignore') #ignore any generated warnings\n",
    "\n",
    "import numpy as np\n",
    "import matplotlib.pyplot as plt #to generate the t-SNE plot\n",
    "from sklearn.manifold import TSNE #scikit learn's TSNE"
   ]
  },
  {
   "cell_type": "code",
   "execution_count": 33,
   "metadata": {},
   "outputs": [
    {
     "name": "stdout",
     "output_type": "stream",
     "text": [
      "Size of Vocabulary: 774\n",
      "Few words in Vocabulary ['!', '.', 'i', 'to', 'constantnonbrandmention', 'the', ',', 'and', 'a', 'my', '..', 'in', 'is', 'for', 'on', 'it', 'constantnum', 'you', 'of', '?', 'me', 'have', 'so', 'that', 'with', 'just', \"i'm\", 'was', 'but', 'not', 'at', 'this', 'be', 'now', 'up', 'get', 'all', 'no', 'go', 'are', 'got', 'from', '-', 'going', '\"', 'constantalphanum', 'good', 'day', 'about', 'today']\n",
      "Size of Vocabulary without stopwords: 654\n",
      "Few words in Vocabulary without stopwords ['!', '.', 'constantnonbrandmention', ',', '..', 'constantnum', '?', \"i'm\", 'get', 'go', 'got', '-', 'going', '\"', 'constantalphanum', 'good', 'day', 'today', 'love', 'headache', 'work', \"can't\", 'sad', 'like', 'constanturl', 'cancer', 'constanthashtag', 'back', 'cavs', 'iphone']\n"
     ]
    },
    {
     "name": "stderr",
     "output_type": "stream",
     "text": [
      "[nltk_data] Downloading package stopwords to\n",
      "[nltk_data]     C:\\Users\\mccar\\AppData\\Roaming\\nltk_data...\n",
      "[nltk_data]   Package stopwords is already up-to-date!\n"
     ]
    }
   ],
   "source": [
    "#Preprocessing our models vocabulary to make better visualizations\n",
    "import nltk\n",
    "from nltk.corpus import stopwords\n",
    "nltk.download('stopwords')\n",
    "\n",
    "words_vocab= list(word2vec_tweet.wv.index_to_key)#all the words in the vocabulary. \n",
    "print(\"Size of Vocabulary:\",len(words_vocab))\n",
    "print(\"Few words in Vocabulary\",words_vocab[:50])\n",
    "\n",
    "#Let us remove the stop words from this it will help making the visualization cleaner\n",
    "stopwords_en = stopwords.words('english')\n",
    "words_vocab_without_sw = [word.lower() for word in words_vocab if not word in stopwords_en]\n",
    "print(\"Size of Vocabulary without stopwords:\",len(words_vocab_without_sw))\n",
    "print(\"Few words in Vocabulary without stopwords\",words_vocab_without_sw[:30])\n",
    "#The size didnt reduce much after removing the stop words so lets try visualizing only a selected subset of words\n"
   ]
  },
  {
   "cell_type": "code",
   "execution_count": 36,
   "metadata": {},
   "outputs": [],
   "source": [
    "#With the increase in the amount of data, it becomes more and more difficult to visualize and interpret\n",
    "#In practice, similar words are combined into groups for further visualization.\n",
    "\n",
    "keys = ['weekend','twitter','mcdonalds','coffee']\n",
    "embedding_clusters = []\n",
    "word_clusters = []\n",
    "\n",
    "for word in keys:\n",
    "    embeddings = []\n",
    "    words = []\n",
    "    for similar_word, _ in word2vec_tweet.wv.most_similar(word, topn=10):\n",
    "        words.append(similar_word)\n",
    "        embeddings.append(word2vec_tweet.wv[similar_word])\n",
    "    embedding_clusters.append(embeddings)#apending access vector of all similar words\n",
    "    word_clusters.append(words)#appending list of all smiliar words"
   ]
  },
  {
   "cell_type": "code",
   "execution_count": 37,
   "metadata": {},
   "outputs": [
    {
     "name": "stdout",
     "output_type": "stream",
     "text": [
      "Embedding clusters: [-0.23396909  0.12025025  0.0454405   0.12856649  0.08078113 -0.29256755\n",
      "  0.03875476  0.4790997  -0.22245567 -0.0897628  -0.09586577 -0.33057898\n",
      " -0.03625616  0.14166863  0.07711219 -0.11565018  0.20744623 -0.28862393\n",
      " -0.10191246 -0.48610368  0.04305795  0.04976128  0.1306978  -0.1532131\n",
      " -0.09873183  0.00355866 -0.21446513 -0.06022254 -0.24046612 -0.01864499\n",
      "  0.24897112 -0.03374087  0.11305819 -0.14793585 -0.20008922  0.40121084\n",
      "  0.05217542 -0.18834637 -0.06673679 -0.37862235 -0.02828174 -0.13357474\n",
      " -0.18156399 -0.00574778  0.23956792 -0.07776643 -0.23146714 -0.10142095\n",
      "  0.13294339  0.14098077  0.16910793 -0.17799729 -0.01452784 -0.05864683\n",
      " -0.1033523   0.0569796   0.10740475 -0.1016897  -0.20028135  0.12727107\n",
      " -0.05356726 -0.00237996  0.16404916 -0.09071293 -0.33163422  0.13348418\n",
      "  0.11557188  0.30524048 -0.3197349   0.2776891  -0.07922257  0.1886444\n",
      "  0.22953469  0.08935907  0.22397453  0.09139021 -0.02729139 -0.04085929\n",
      " -0.18478349  0.03503764 -0.12069452  0.00529011 -0.15841684  0.24592227\n",
      " -0.0855597  -0.14641729  0.07799175  0.18166429  0.2527517   0.01210216\n",
      "  0.36502323  0.17579894  0.1502493   0.10353899  0.4400137   0.24984668\n",
      "  0.15947993 -0.15752265  0.04607236 -0.10096452]\n",
      "Word Clousters: [['him', 'just', \"can't\", 'have', \"it's\", 'if', 'then', ',', 'is', 'will'], ['at', '.', 'was', 'me', 'the', 'it', 'from', 'constantnonbrandmention', 'i', 'as']]\n"
     ]
    }
   ],
   "source": [
    "print(\"Embedding clusters:\",embedding_clusters[0][0])#Access vector of the first word only\n",
    "print(\"Word Clousters:\",word_clusters[:2])"
   ]
  },
  {
   "cell_type": "markdown",
   "metadata": {},
   "source": [
    "## Visualization\n",
    "We will visualize our embeddings using T-SNE. If you do not know aht T-SNE is or have forgotten please refer to Ch3 in the book. We will be using the T-SNE code previously introduced in a notebook from Ch3 which can be found [here](https://github.com/practical-nlp/practical-nlp/blob/master/Ch3/09_Visualizing_Embeddings_Using_TSNE.ipynb)."
   ]
  },
  {
   "cell_type": "code",
   "execution_count": 38,
   "metadata": {},
   "outputs": [],
   "source": [
    "from sklearn.manifold import TSNE\n",
    "import numpy as np\n",
    "\n",
    "embedding_clusters = np.array(embedding_clusters)\n",
    "n, m, k = embedding_clusters.shape #geting the dimensions\n",
    "tsne_model_en_2d = TSNE(perplexity=10, n_components=2, init='pca', n_iter=1500, random_state=2020) \n",
    "embeddings_en_2d = np.array(tsne_model_en_2d.fit_transform(embedding_clusters.reshape(n * m, k))).reshape(n, m, 2) #reshaping it into 2d so we can visualize it"
   ]
  },
  {
   "cell_type": "code",
   "execution_count": 42,
   "metadata": {},
   "outputs": [
    {
     "data": {
      "image/png": "[encoded data removed]",
      "text/plain": [
       "<Figure size 1600x900 with 1 Axes>"
      ]
     },
     "metadata": {},
     "output_type": "display_data"
    }
   ],
   "source": [
    "from sklearn.manifold import TSNE\n",
    "import matplotlib.pyplot as plt\n",
    "import matplotlib.cm as cm\n",
    "import numpy as np\n",
    "%matplotlib inline\n",
    "#script for constructing two-dimensional graphics using Matplotlib\n",
    "def tsne_plot_similar_words(labels, embedding_clusters, word_clusters, a=0.7):\n",
    "    plt.figure(figsize=(16, 9))\n",
    "    \n",
    "\n",
    "    for label, embeddings, words in zip(labels, embedding_clusters, word_clusters):\n",
    "        x = embeddings[:,0]\n",
    "        y = embeddings[:,1]\n",
    "        plt.scatter(x, y, alpha=a, label=label)\n",
    "        for i, word in enumerate(words):\n",
    "            plt.annotate(word, alpha=0.5, xy=(x[i], y[i]), xytext=(5, 2), \n",
    "                         textcoords='offset points', ha='right', va='bottom', size=8)\n",
    "    plt.legend(loc=4)\n",
    "    plt.grid(True)\n",
    "    plt.savefig('../pngs/08tsne_plot_similar_words.png', dpi=150)\n",
    "    plt.show()\n",
    "\n",
    "tsne_plot_similar_words(words_vocab_without_sw, embeddings_en_2d, word_clusters)"
   ]
  },
  {
   "cell_type": "code",
   "execution_count": null,
   "metadata": {},
   "outputs": [],
   "source": []
  }
 ],
 "metadata": {
  "kernelspec": {
   "display_name": "Python 3",
   "language": "python",
   "name": "python3"
  },
  "language_info": {
   "codemirror_mode": {
    "name": "ipython",
    "version": 3
   },
   "file_extension": ".py",
   "mimetype": "text/x-python",
   "name": "python",
   "nbconvert_exporter": "python",
   "pygments_lexer": "ipython3",
   "version": "3.11.4"
  }
 },
 "nbformat": 4,
 "nbformat_minor": 4
}
