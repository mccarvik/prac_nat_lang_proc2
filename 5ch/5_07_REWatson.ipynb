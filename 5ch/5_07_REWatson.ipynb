{
  "cells": [
    {
      "cell_type": "markdown",
      "metadata": {
        "colab_type": "text",
        "id": "h1LvyMCvcnft"
      },
      "source": [
        "This notebook shows an example of Relation Extraction with IBM Watson. They have a [free tier](https://www.ibm.com/cloud/free) which you can use to try it out using the API key obtained by registering for it."
      ]
    },
    {
      "cell_type": "code",
      "execution_count": 2,
      "metadata": {
        "colab": {},
        "colab_type": "code",
        "id": "Tgo_X-o4cnfv",
        "outputId": "11e679b2-ff24-47f5-909e-a9ae8d297aaf"
      },
      "outputs": [
        {
          "name": "stderr",
          "output_type": "stream",
          "text": [
            "C:\\Users\\mccar\\AppData\\Local\\Temp\\ipykernel_18740\\1667957092.py:5: DeprecationWarning: watson-developer-cloud moved to ibm-watson. To get updates, use the new package.\n",
            "  natural_language_understanding = NaturalLanguageUnderstandingV1(\n",
            "C:\\Users\\mccar\\AppData\\Local\\Packages\\PythonSoftwareFoundation.Python.3.10_qbz5n2kfra8p0\\LocalCache\\local-packages\\Python310\\site-packages\\urllib3\\util\\ssl_.py:260: DeprecationWarning: ssl.PROTOCOL_TLS is deprecated\n",
            "  context = SSLContext(ssl_version or PROTOCOL_TLS)\n",
            "C:\\Users\\mccar\\AppData\\Local\\Packages\\PythonSoftwareFoundation.Python.3.10_qbz5n2kfra8p0\\LocalCache\\local-packages\\Python310\\site-packages\\urllib3\\connection.py:407: DeprecationWarning: ssl.match_hostname() is deprecated\n",
            "  match_hostname(cert, asserted_hostname)\n"
          ]
        },
        {
          "ename": "WatsonApiException",
          "evalue": "Error: Provided API key could not be found., Code: 400",
          "output_type": "error",
          "traceback": [
            "\u001b[1;31m---------------------------------------------------------------------------\u001b[0m",
            "\u001b[1;31mWatsonApiException\u001b[0m                        Traceback (most recent call last)",
            "Cell \u001b[1;32mIn[2], line 11\u001b[0m\n\u001b[0;32m      3\u001b[0m \u001b[39mfrom\u001b[39;00m \u001b[39mwatson_developer_cloud\u001b[39;00m\u001b[39m.\u001b[39;00m\u001b[39mnatural_language_understanding_v1\u001b[39;00m \u001b[39mimport\u001b[39;00m Features, RelationsOptions\n\u001b[0;32m      5\u001b[0m natural_language_understanding \u001b[39m=\u001b[39m NaturalLanguageUnderstandingV1(\n\u001b[0;32m      6\u001b[0m     version\u001b[39m=\u001b[39m\u001b[39m'\u001b[39m\u001b[39m2018-11-16\u001b[39m\u001b[39m'\u001b[39m,\n\u001b[0;32m      7\u001b[0m     iam_apikey\u001b[39m=\u001b[39m\u001b[39m'\u001b[39m\u001b[39mXXXXX\u001b[39m\u001b[39m'\u001b[39m,\n\u001b[0;32m      8\u001b[0m     url\u001b[39m=\u001b[39m\u001b[39m'\u001b[39m\u001b[39mhttps://gateway-wdc.watsonplatform.net/natural-language-understanding/api\u001b[39m\u001b[39m'\u001b[39m\n\u001b[0;32m      9\u001b[0m )\n\u001b[1;32m---> 11\u001b[0m response \u001b[39m=\u001b[39m natural_language_understanding\u001b[39m.\u001b[39;49manalyze(\n\u001b[0;32m     12\u001b[0m     text\u001b[39m=\u001b[39;49m\u001b[39m'\u001b[39;49m\u001b[39mLeonardo DiCaprio won Best Actor in a Leading Role for his performance.\u001b[39;49m\u001b[39m'\u001b[39;49m,\n\u001b[0;32m     13\u001b[0m     features\u001b[39m=\u001b[39;49mFeatures(relations\u001b[39m=\u001b[39;49mRelationsOptions()))\u001b[39m.\u001b[39mget_result()\n\u001b[0;32m     15\u001b[0m \u001b[39mprint\u001b[39m(json\u001b[39m.\u001b[39mdumps(response, indent\u001b[39m=\u001b[39m\u001b[39m2\u001b[39m))\n",
            "File \u001b[1;32m~\\AppData\\Local\\Packages\\PythonSoftwareFoundation.Python.3.10_qbz5n2kfra8p0\\LocalCache\\local-packages\\Python310\\site-packages\\watson_developer_cloud\\natural_language_understanding_v1.py:197\u001b[0m, in \u001b[0;36mNaturalLanguageUnderstandingV1.analyze\u001b[1;34m(self, features, text, html, url, clean, xpath, fallback_to_raw, return_analyzed_text, language, limit_text_characters, **kwargs)\u001b[0m\n\u001b[0;32m    183\u001b[0m data \u001b[39m=\u001b[39m {\n\u001b[0;32m    184\u001b[0m     \u001b[39m'\u001b[39m\u001b[39mfeatures\u001b[39m\u001b[39m'\u001b[39m: features,\n\u001b[0;32m    185\u001b[0m     \u001b[39m'\u001b[39m\u001b[39mtext\u001b[39m\u001b[39m'\u001b[39m: text,\n\u001b[1;32m   (...)\u001b[0m\n\u001b[0;32m    193\u001b[0m     \u001b[39m'\u001b[39m\u001b[39mlimit_text_characters\u001b[39m\u001b[39m'\u001b[39m: limit_text_characters\n\u001b[0;32m    194\u001b[0m }\n\u001b[0;32m    196\u001b[0m url \u001b[39m=\u001b[39m \u001b[39m'\u001b[39m\u001b[39m/v1/analyze\u001b[39m\u001b[39m'\u001b[39m\n\u001b[1;32m--> 197\u001b[0m response \u001b[39m=\u001b[39m \u001b[39mself\u001b[39;49m\u001b[39m.\u001b[39;49mrequest(\n\u001b[0;32m    198\u001b[0m     method\u001b[39m=\u001b[39;49m\u001b[39m'\u001b[39;49m\u001b[39mPOST\u001b[39;49m\u001b[39m'\u001b[39;49m,\n\u001b[0;32m    199\u001b[0m     url\u001b[39m=\u001b[39;49murl,\n\u001b[0;32m    200\u001b[0m     headers\u001b[39m=\u001b[39;49mheaders,\n\u001b[0;32m    201\u001b[0m     params\u001b[39m=\u001b[39;49mparams,\n\u001b[0;32m    202\u001b[0m     json\u001b[39m=\u001b[39;49mdata,\n\u001b[0;32m    203\u001b[0m     accept_json\u001b[39m=\u001b[39;49m\u001b[39mTrue\u001b[39;49;00m)\n\u001b[0;32m    204\u001b[0m \u001b[39mreturn\u001b[39;00m response\n",
            "File \u001b[1;32m~\\AppData\\Local\\Packages\\PythonSoftwareFoundation.Python.3.10_qbz5n2kfra8p0\\LocalCache\\local-packages\\Python310\\site-packages\\watson_developer_cloud\\watson_service.py:530\u001b[0m, in \u001b[0;36mWatsonService.request\u001b[1;34m(self, method, url, accept_json, headers, params, json, data, files, **kwargs)\u001b[0m\n\u001b[0;32m    528\u001b[0m auth \u001b[39m=\u001b[39m \u001b[39mNone\u001b[39;00m\n\u001b[0;32m    529\u001b[0m \u001b[39mif\u001b[39;00m \u001b[39mself\u001b[39m\u001b[39m.\u001b[39mtoken_manager:\n\u001b[1;32m--> 530\u001b[0m     access_token \u001b[39m=\u001b[39m \u001b[39mself\u001b[39;49m\u001b[39m.\u001b[39;49mtoken_manager\u001b[39m.\u001b[39;49mget_token()\n\u001b[0;32m    531\u001b[0m     headers[\u001b[39m'\u001b[39m\u001b[39mAuthorization\u001b[39m\u001b[39m'\u001b[39m] \u001b[39m=\u001b[39m \u001b[39m'\u001b[39m\u001b[39m{0}\u001b[39;00m\u001b[39m \u001b[39m\u001b[39m{1}\u001b[39;00m\u001b[39m'\u001b[39m\u001b[39m.\u001b[39mformat(BEARER, access_token)\n\u001b[0;32m    532\u001b[0m \u001b[39mif\u001b[39;00m \u001b[39mself\u001b[39m\u001b[39m.\u001b[39musername \u001b[39mand\u001b[39;00m \u001b[39mself\u001b[39m\u001b[39m.\u001b[39mpassword:\n",
            "File \u001b[1;32m~\\AppData\\Local\\Packages\\PythonSoftwareFoundation.Python.3.10_qbz5n2kfra8p0\\LocalCache\\local-packages\\Python310\\site-packages\\watson_developer_cloud\\iam_token_manager.py:47\u001b[0m, in \u001b[0;36mIAMTokenManager.get_token\u001b[1;34m(self)\u001b[0m\n\u001b[0;32m     45\u001b[0m     \u001b[39mreturn\u001b[39;00m \u001b[39mself\u001b[39m\u001b[39m.\u001b[39muser_access_token\n\u001b[0;32m     46\u001b[0m \u001b[39melif\u001b[39;00m \u001b[39mnot\u001b[39;00m \u001b[39mself\u001b[39m\u001b[39m.\u001b[39mtoken_info\u001b[39m.\u001b[39mget(\u001b[39m'\u001b[39m\u001b[39maccess_token\u001b[39m\u001b[39m'\u001b[39m):\n\u001b[1;32m---> 47\u001b[0m     token_info \u001b[39m=\u001b[39m \u001b[39mself\u001b[39;49m\u001b[39m.\u001b[39;49m_request_token()\n\u001b[0;32m     48\u001b[0m     \u001b[39mself\u001b[39m\u001b[39m.\u001b[39m_save_token_info(token_info)\n\u001b[0;32m     49\u001b[0m     \u001b[39mreturn\u001b[39;00m \u001b[39mself\u001b[39m\u001b[39m.\u001b[39mtoken_info\u001b[39m.\u001b[39mget(\u001b[39m'\u001b[39m\u001b[39maccess_token\u001b[39m\u001b[39m'\u001b[39m)\n",
            "File \u001b[1;32m~\\AppData\\Local\\Packages\\PythonSoftwareFoundation.Python.3.10_qbz5n2kfra8p0\\LocalCache\\local-packages\\Python310\\site-packages\\watson_developer_cloud\\iam_token_manager.py:74\u001b[0m, in \u001b[0;36mIAMTokenManager._request_token\u001b[1;34m(self)\u001b[0m\n\u001b[0;32m     64\u001b[0m headers \u001b[39m=\u001b[39m {\n\u001b[0;32m     65\u001b[0m     \u001b[39m'\u001b[39m\u001b[39mContent-type\u001b[39m\u001b[39m'\u001b[39m: CONTENT_TYPE,\n\u001b[0;32m     66\u001b[0m     \u001b[39m'\u001b[39m\u001b[39mAuthorization\u001b[39m\u001b[39m'\u001b[39m: DEFAULT_AUTHORIZATION,\n\u001b[0;32m     67\u001b[0m     \u001b[39m'\u001b[39m\u001b[39maccept\u001b[39m\u001b[39m'\u001b[39m: ACCEPT\n\u001b[0;32m     68\u001b[0m }\n\u001b[0;32m     69\u001b[0m data \u001b[39m=\u001b[39m {\n\u001b[0;32m     70\u001b[0m     \u001b[39m'\u001b[39m\u001b[39mgrant_type\u001b[39m\u001b[39m'\u001b[39m: REQUEST_TOKEN_GRANT_TYPE,\n\u001b[0;32m     71\u001b[0m     \u001b[39m'\u001b[39m\u001b[39mapikey\u001b[39m\u001b[39m'\u001b[39m: \u001b[39mself\u001b[39m\u001b[39m.\u001b[39miam_apikey,\n\u001b[0;32m     72\u001b[0m     \u001b[39m'\u001b[39m\u001b[39mresponse_type\u001b[39m\u001b[39m'\u001b[39m: REQUEST_TOKEN_RESPONSE_TYPE\n\u001b[0;32m     73\u001b[0m }\n\u001b[1;32m---> 74\u001b[0m response \u001b[39m=\u001b[39m \u001b[39mself\u001b[39;49m\u001b[39m.\u001b[39;49mrequest(\n\u001b[0;32m     75\u001b[0m     method\u001b[39m=\u001b[39;49m\u001b[39m'\u001b[39;49m\u001b[39mPOST\u001b[39;49m\u001b[39m'\u001b[39;49m,\n\u001b[0;32m     76\u001b[0m     url\u001b[39m=\u001b[39;49m\u001b[39mself\u001b[39;49m\u001b[39m.\u001b[39;49miam_url,\n\u001b[0;32m     77\u001b[0m     headers\u001b[39m=\u001b[39;49mheaders,\n\u001b[0;32m     78\u001b[0m     data\u001b[39m=\u001b[39;49mdata)\n\u001b[0;32m     79\u001b[0m \u001b[39mreturn\u001b[39;00m response\n",
            "File \u001b[1;32m~\\AppData\\Local\\Packages\\PythonSoftwareFoundation.Python.3.10_qbz5n2kfra8p0\\LocalCache\\local-packages\\Python310\\site-packages\\watson_developer_cloud\\iam_token_manager.py:34\u001b[0m, in \u001b[0;36mIAMTokenManager.request\u001b[1;34m(self, method, url, headers, params, data, **kwargs)\u001b[0m\n\u001b[0;32m     32\u001b[0m \u001b[39mfrom\u001b[39;00m \u001b[39m.\u001b[39;00m\u001b[39mwatson_service\u001b[39;00m \u001b[39mimport\u001b[39;00m WatsonApiException, get_error_message\n\u001b[0;32m     33\u001b[0m error_message \u001b[39m=\u001b[39m get_error_message(response)\n\u001b[1;32m---> 34\u001b[0m \u001b[39mraise\u001b[39;00m WatsonApiException(response\u001b[39m.\u001b[39mstatus_code, message\u001b[39m=\u001b[39merror_message, httpResponse\u001b[39m=\u001b[39mresponse)\n",
            "\u001b[1;31mWatsonApiException\u001b[0m: Error: Provided API key could not be found., Code: 400"
          ]
        }
      ],
      "source": [
        "# This API is deprecated\n",
        "\n",
        "import json\n",
        "from watson_developer_cloud import NaturalLanguageUnderstandingV1\n",
        "from watson_developer_cloud.natural_language_understanding_v1 import Features, RelationsOptions\n",
        "\n",
        "natural_language_understanding = NaturalLanguageUnderstandingV1(\n",
        "    version='2018-11-16',\n",
        "    iam_apikey='XXXXX',\n",
        "    url='https://gateway-wdc.watsonplatform.net/natural-language-understanding/api'\n",
        ")\n",
        "\n",
        "response = natural_language_understanding.analyze(\n",
        "    text='Leonardo DiCaprio won Best Actor in a Leading Role for his performance.',\n",
        "    features=Features(relations=RelationsOptions())).get_result()\n",
        "\n",
        "print(json.dumps(response, indent=2))"
      ]
    },
    {
      "cell_type": "code",
      "execution_count": null,
      "metadata": {
        "colab": {},
        "colab_type": "code",
        "id": "W0C7khY9cnf0"
      },
      "outputs": [],
      "source": [
        "mytext = \"Satya Narayana Nadella currently serves as the Chief Executive Officer (CEO) of Microsoft.\""
      ]
    },
    {
      "cell_type": "code",
      "execution_count": null,
      "metadata": {
        "colab": {},
        "colab_type": "code",
        "id": "ok9whBoIcnf7"
      },
      "outputs": [],
      "source": [
        "response = natural_language_understanding.analyze(\n",
        "    text=mytext,\n",
        "    features=Features(relations=RelationsOptions())).get_result()\n",
        "\n",
        "#print(json.dumps(response, indent=2))"
      ]
    },
    {
      "cell_type": "code",
      "execution_count": null,
      "metadata": {
        "colab": {},
        "colab_type": "code",
        "id": "h3SLsI8Mcnf-"
      },
      "outputs": [],
      "source": [
        "result = json.dumps(response)\n"
      ]
    },
    {
      "cell_type": "code",
      "execution_count": null,
      "metadata": {
        "colab": {},
        "colab_type": "code",
        "id": "MVZXkl3gcngF",
        "outputId": "262d4877-d2a1-4caa-a6a3-2afea85a5c32"
      },
      "outputs": [
        {
          "data": {
            "text/plain": [
              "'{\"usage\": {\"text_units\": 1, \"text_characters\": 90, \"features\": 1}, \"relations\": [{\"type\": \"employedBy\", \"sentence\": \"Satya Narayana Nadella currently serves as the Chief Executive Officer (CEO) of Microsoft.\", \"score\": 0.48706, \"arguments\": [{\"text\": \"CEO\", \"location\": [72, 75], \"entities\": [{\"type\": \"Person\", \"text\": \"Satya Narayana Nadella\"}]}, {\"text\": \"Microsoft\", \"location\": [80, 89], \"entities\": [{\"type\": \"Organization\", \"text\": \"Microsoft\", \"disambiguation\": {\"subtype\": [\"Commercial\"]}}]}]}], \"language\": \"en\"}'"
            ]
          },
          "execution_count": 42,
          "metadata": {
            "tags": []
          },
          "output_type": "execute_result"
        }
      ],
      "source": [
        "result"
      ]
    },
    {
      "cell_type": "code",
      "execution_count": null,
      "metadata": {
        "colab": {},
        "colab_type": "code",
        "id": "KhxRifcYcngM",
        "outputId": "3893966f-b1bb-489a-8df6-727a9a260059"
      },
      "outputs": [
        {
          "name": "stdout",
          "output_type": "stream",
          "text": [
            "employedBy\n",
            "[{'type': 'Person', 'text': 'Satya Narayana Nadella'}]\n",
            "[{'type': 'Organization', 'text': 'Microsoft', 'disambiguation': {'subtype': ['Commercial']}}]\n",
            "\n"
          ]
        }
      ],
      "source": [
        "for item in response['relations']:\n",
        "        print(item['type'])\n",
        "        for subitem in item['arguments']:\n",
        "            print(subitem['entities'])\n",
        "print()"
      ]
    },
    {
      "cell_type": "code",
      "execution_count": null,
      "metadata": {
        "colab": {},
        "colab_type": "code",
        "id": "LPOOAWyzcngP",
        "outputId": "b2ca6263-70a2-42c7-8cce-9a976645b040"
      },
      "outputs": [
        {
          "name": "stdout",
          "output_type": "stream",
          "text": [
            "bornAt\n",
            "[{'type': 'Person', 'text': 'Nadella'}]\n",
            "[{'type': 'GeopoliticalEntity', 'text': 'Hyderabad'}]\n",
            "parentOf\n",
            "[{'type': 'Person', 'text': 'Bukkapuram Nadella Yugandher'}]\n",
            "[{'type': 'Person', 'text': 'Nadella'}]\n",
            "employedBy\n",
            "[{'type': 'Person', 'text': 'Administrative'}]\n",
            "[{'type': 'GeopoliticalEntity', 'text': 'Indian', 'disambiguation': {'subtype': ['Country']}}]\n",
            "managerOf\n",
            "[{'type': 'Person', 'text': 'Administrative'}]\n",
            "[{'type': 'Organization', 'text': 'Service', 'disambiguation': {'subtype': ['Government']}}]\n",
            "parentOf\n",
            "[{'type': 'Person', 'text': 'scholar'}]\n",
            "[{'type': 'Person', 'text': 'Nadella'}]\n",
            "locatedAt\n",
            "[{'type': 'Person', 'text': 'scholar'}]\n",
            "[{'type': 'Facility', 'text': 'Sanskrit'}]\n",
            "locatedAt\n",
            "[{'type': 'Person', 'text': 'scholar'}]\n",
            "[{'type': 'Facility', 'text': 'Sanskrit'}]\n",
            "\n"
          ]
        }
      ],
      "source": [
        "mytext2 = \"Nadella was born in Hyderabad. His father, Bukkapuram Nadella Yugandher, was a civil servant who worked for the Indian Administrative Service of the Government of India. His mother was a Sanskrit scholar. \"\n",
        "response = natural_language_understanding.analyze(\n",
        "    text=mytext2,\n",
        "    features=Features(relations=RelationsOptions())).get_result()\n",
        "for item in response['relations']:\n",
        "        print(item['type'])\n",
        "        for subitem in item['arguments']:\n",
        "            print(subitem['entities'])\n",
        "print()"
      ]
    },
    {
      "cell_type": "code",
      "execution_count": null,
      "metadata": {
        "colab": {},
        "colab_type": "code",
        "id": "e2zb76UAcngh",
        "outputId": "ece2717a-e839-4b95-ae4e-cc7eb17ab4a5"
      },
      "outputs": [
        {
          "name": "stdout",
          "output_type": "stream",
          "text": [
            "employedBy\n",
            "[{'type': 'Person', 'text': 'Nadella'}]\n",
            "[{'type': 'Organization', 'text': 'Hyderabad Public School', 'disambiguation': {'subtype': ['Commercial']}}]\n",
            "awardedTo\n",
            "[{'type': 'Degree', 'text': 'bachelor'}]\n",
            "[{'type': 'Person', 'text': 'Nadella'}]\n",
            "educatedAt\n",
            "[{'type': 'Person', 'text': 'Nadella'}]\n",
            "[{'type': 'Organization', 'text': 'Manipal Institute of Technology', 'disambiguation': {'subtype': ['Educational']}}]\n",
            "educatedAt\n",
            "[{'type': 'Person', 'text': 'Nadella'}]\n",
            "[{'type': 'Organization', 'text': 'Mangalore University', 'disambiguation': {'subtype': ['Educational']}}]\n",
            "awardedBy\n",
            "[{'type': 'Degree', 'text': 'bachelor'}]\n",
            "[{'type': 'Organization', 'text': 'Manipal Institute of Technology', 'disambiguation': {'subtype': ['Educational']}}]\n",
            "basedIn\n",
            "[{'type': 'Organization', 'text': 'Mangalore University', 'disambiguation': {'subtype': ['Educational']}}]\n",
            "[{'type': 'GeopoliticalEntity', 'text': 'Karnataka'}]\n"
          ]
        }
      ],
      "source": [
        "mytext3 = \"\"\"Nadella attended the Hyderabad Public School, Begumpet [12] before receiving\n",
        "a bachelor's in electrical engineering[13] from the Manipal Institute of Technology \n",
        "(then part of Mangalore University) in Karnataka in 1988.\"\"\"\n",
        "response = natural_language_understanding.analyze(\n",
        "    text=mytext3,\n",
        "    features=Features(relations=RelationsOptions())).get_result()\n",
        "for item in response['relations']:\n",
        "        print(item['type'])\n",
        "        for subitem in item['arguments']:\n",
        "            print(subitem['entities'])"
      ]
    },
    {
      "cell_type": "code",
      "execution_count": null,
      "metadata": {
        "colab": {},
        "colab_type": "code",
        "id": "5gwqG63Rcngk"
      },
      "outputs": [],
      "source": []
    }
  ],
  "metadata": {
    "colab": {
      "name": "REWatson.ipynb",
      "provenance": []
    },
    "kernelspec": {
      "display_name": "Python 3",
      "language": "python",
      "name": "python3"
    },
    "language_info": {
      "codemirror_mode": {
        "name": "ipython",
        "version": 3
      },
      "file_extension": ".py",
      "mimetype": "text/x-python",
      "name": "python",
      "nbconvert_exporter": "python",
      "pygments_lexer": "ipython3",
      "version": "3.10.11"
    }
  },
  "nbformat": 4,
  "nbformat_minor": 0
}
