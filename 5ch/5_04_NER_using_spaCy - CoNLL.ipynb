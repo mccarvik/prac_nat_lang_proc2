{
  "cells": [
    {
      "cell_type": "markdown",
      "metadata": {
        "id": "q5D0DhOQwTwq"
      },
      "source": [
        "# Training and Evaluating an NER model with spaCy on the CoNLL dataset\n",
        "\n",
        "In this notebook, we will take a look at using spaCy commandline to train and evaluate a NER model. We will also compare it with the pretrained NER model in spacy. \n",
        "\n",
        "Note: we will create multiple folders during this experiment:\n",
        "spacyNER_data "
      ]
    },
    {
      "cell_type": "markdown",
      "metadata": {
        "id": "AMQsjIY_wTwu"
      },
      "source": [
        "## Step 1: Converting data to json structures so it can be used by Spacy"
      ]
    },
    {
      "cell_type": "code",
      "execution_count": 1,
      "metadata": {
        "id": "0ENm_PG8wTwu"
      },
      "outputs": [],
      "source": [
        "import os"
      ]
    },
    {
      "cell_type": "code",
      "execution_count": 2,
      "metadata": {
        "colab": {
          "base_uri": "https://localhost:8080/",
          "height": 140,
          "resources": {
            "http://localhost:8080/nbextensions/google.colab/files.js": {
              "data": "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",
              "headers": [
                [
                  "content-type",
                  "application/javascript"
                ]
              ],
              "ok": true,
              "status": 200,
              "status_text": ""
            }
          }
        },
        "id": "bvKsy7lSwTwv",
        "outputId": "d5f9c665-76ab-4d5a-fce3-2183be45c369"
      },
      "outputs": [],
      "source": [
        "# upload train.txt, test.txt, valid.txt from Data/conll2003/en\n",
        "# try:\n",
        "#     from google.colab import files\n",
        "#     uploaded = files.upload()\n",
        "# except ModuleNotFoundError:\n",
        "#     print('Not using colab')"
      ]
    },
    {
      "cell_type": "code",
      "execution_count": 3,
      "metadata": {
        "colab": {
          "base_uri": "https://localhost:8080/"
        },
        "id": "g-KC1D-ZwTwx",
        "outputId": "b4a9227e-e439-4aa4-cd75-2c3a7664e45a"
      },
      "outputs": [],
      "source": [
        "#Read the CONLL data from conll2003 folder, and store the formatted data into a folder spacyNER_data\n",
        "\n",
        "# !mkdir spacyNER_data\n",
        "# os.mkdir('data/spacyNER_data')\n",
        "        \n",
        "#the above lines create folder if it doesn't exist. If it does, the output shows a message that it\n",
        "#already exists and cannot be created again\n",
        "# try:\n",
        "#     import google.colab \n",
        "#     !python -m spacy convert \"train.txt\" spacyNER_data -c ner\n",
        "#     !python -m spacy convert \"test.txt\" spacyNER_data -c ner\n",
        "#     !python -m spacy convert \"valid.txt\" spacyNER_data -c ner\n",
        "# except ModuleNotFoundError:\n",
        "#     !python -m spacy convert \"Data/conll2003/en/train.txt\" spacyNER_data -c ner\n",
        "#     !python -m spacy convert \"Data/conll2003/en/test.txt\" spacyNER_data -c ner\n",
        "#     !python -m spacy convert \"Data/conll2003/en/valid.txt\" spacyNER_data -c ner\n"
      ]
    },
    {
      "cell_type": "markdown",
      "metadata": {
        "id": "SMI4n0JywTwx"
      },
      "source": [
        "#### For example, the data before and after running spacy's convert program looks as follows."
      ]
    },
    {
      "cell_type": "code",
      "execution_count": 8,
      "metadata": {
        "colab": {
          "base_uri": "https://localhost:8080/"
        },
        "id": "X4wBa1MGwTwy",
        "outputId": "7d07c574-02e7-470b-b3c7-bd29b0c4c3d6"
      },
      "outputs": [
        {
          "name": "stdout",
          "output_type": "stream",
          "text": [
            "BEFORE : (Data/conll2003/train.txt)\n",
            "\n",
            " EU NNP B-NP B-ORG\n",
            " rejects VBZ B-VP O\n",
            " German JJ B-NP B-MISC\n",
            " call NN I-NP O\n",
            " to TO B-VP O\n",
            " boycott VB I-VP O\n",
            " British JJ B-NP B-MISC\n",
            " lamb NN I-NP O\n",
            " . . O O\n",
            "\n"
          ]
        }
      ],
      "source": [
        "# try:\n",
        "#     import google.colab\n",
        "#     !echo \"BEFORE : (train.txt)\"\n",
        "#     !head \"train.txt\" -n 11 | tail -n 9\n",
        "# except ModuleNotFoundError:\n",
        "#     print(\"BEFORE : (Data/conll2003/en/train.txt)\")\n",
        "#     file = open(\"Data/conll2003/en/train.txt\")\n",
        "#     content = file.readlines()\n",
        "#     print(*content[1:11])\n",
        "\n",
        "print(\"BEFORE : (Data/conll2003/train.txt)\")\n",
        "file = open(\"Data/conll2003/train.txt\")\n",
        "content = file.readlines()\n",
        "print(*content[1:11])\n"
      ]
    },
    {
      "cell_type": "code",
      "execution_count": 9,
      "metadata": {
        "colab": {
          "base_uri": "https://localhost:8080/"
        },
        "id": "oDYEtB09wTwy",
        "outputId": "e6165b85-2b17-4323-ad37-2e54c4c2d629"
      },
      "outputs": [
        {
          "name": "stdout",
          "output_type": "stream",
          "text": [
            "AFTER : (data/spacyNER_data/train.json)\n",
            "            ]\n",
            "           }\n",
            "         ],\n",
            "         \"cats\":[\n",
            " \n",
            "         ],\n",
            "         \"entities\":[\n",
            " \n",
            "         ],\n",
            "         \"links\":[\n",
            " \n",
            "         ]\n",
            "       },\n",
            "       {\n",
            "         \"raw\":null,\n",
            "         \"sentences\":[\n",
            "           {\n",
            "             \"tokens\":[\n",
            "               {\n",
            "                 \"id\":0,\n",
            "                 \"orth\":\"EU\",\n",
            "                 \"space\":\" \",\n",
            "                 \"tag\":\"NNP\",\n",
            "                 \"ner\":\"U-ORG\"\n",
            "               },\n",
            "               {\n",
            "                 \"id\":1,\n",
            "                 \"orth\":\"rejects\",\n",
            "                 \"space\":\" \",\n",
            "                 \"tag\":\"VBZ\",\n",
            "                 \"ner\":\"O\"\n",
            "               },\n",
            "               {\n",
            "                 \"id\":2,\n",
            "                 \"orth\":\"German\",\n",
            "                 \"space\":\" \",\n",
            "                 \"tag\":\"JJ\",\n",
            "                 \"ner\":\"U-MISC\"\n",
            "               },\n",
            "               {\n",
            "                 \"id\":3,\n",
            "                 \"orth\":\"call\",\n",
            "                 \"space\":\" \",\n",
            "                 \"tag\":\"NN\",\n",
            "                 \"ner\":\"O\"\n",
            "               },\n",
            "               {\n",
            "                 \"id\":4,\n",
            "                 \"orth\":\"to\",\n",
            "                 \"space\":\" \",\n",
            "                 \"tag\":\"TO\",\n",
            "                 \"ner\":\"O\"\n",
            "               },\n",
            "               {\n",
            "                 \"id\":5,\n",
            "                 \"orth\":\"boycott\",\n",
            "                 \"space\":\" \",\n",
            "                 \"tag\":\"VB\",\n",
            "\n"
          ]
        }
      ],
      "source": [
        "# try:\n",
        "#     import google.colab\n",
        "#     !echo \"AFTER : (spacyNER_data/train.json)\"\n",
        "#     !head \"spacyNER_data/train.json\" -n 77 | tail -n 58\n",
        "# except ModuleNotFoundError:\n",
        "#     print(\"AFTER : (spacyNER_data/train.json)\")\n",
        "#     f = open('spacyNER_data/train.json')\n",
        "#     content = f.readlines()\n",
        "#     print(*content[19:77])\n",
        "\n",
        "print(\"AFTER : (data/spacyNER_data/train.json)\")\n",
        "f = open('data/spacyNER_data/train.json')\n",
        "content = f.readlines()\n",
        "print(*content[19:77])"
      ]
    },
    {
      "cell_type": "markdown",
      "metadata": {
        "id": "bqDOcC5OwTwz"
      },
      "source": [
        "## Training the NER model with Spacy (CLI)\n",
        "\n",
        "All the commandline options can be seen at: https://spacy.io/api/cli#train\n",
        "We are training using the train program in spacy, for English (en), and the results are stored in a folder \n",
        "called \"model\" (created while training). Our training file is in \"spacyNER_data/train.json\" and the validation file is at: \"spacyNER_data/valid.json\". \n",
        "\n",
        "-G stands for gpu option.\n",
        "-p stands for pipeline, and it should be followed by a comma separated set of options - in this case, a tagger and an NER are being trained simultaneously"
      ]
    },
    {
      "cell_type": "code",
      "execution_count": 44,
      "metadata": {
        "colab": {
          "base_uri": "https://localhost:8080/"
        },
        "id": "QCmQLlwAwTw0",
        "outputId": "3fba6a2a-528e-41c1-c1d4-48f64d07a1aa"
      },
      "outputs": [
        {
          "name": "stdout",
          "output_type": "stream",
          "text": [
            "\u001b[38;5;4mℹ Saving to output directory: output\\model\u001b[0m\n",
            "\u001b[38;5;4mℹ Using CPU\u001b[0m\n",
            "\u001b[1m\n",
            "=========================== Initializing pipeline ===========================\u001b[0m\n",
            "\u001b[38;5;2m✔ Initialized pipeline\u001b[0m\n",
            "\u001b[1m\n",
            "============================= Training pipeline =============================\u001b[0m\n",
            "\u001b[38;5;4mℹ Pipeline: ['tok2vec', 'tagger', 'ner']\u001b[0m\n",
            "\u001b[38;5;4mℹ Initial learn rate: 0.001\u001b[0m\n",
            "E    #       LOSS TOK2VEC  LOSS TAGGER  LOSS NER  TAG_ACC  ENTS_F  ENTS_P  ENTS_R  SCORE \n",
            "---  ------  ------------  -----------  --------  -------  ------  ------  ------  ------\n",
            "  0       0          0.00        78.39     50.06    23.31    0.97    1.03    0.93    0.12\n",
            "  0     200        370.71      6973.76   3296.08    87.73   49.34   49.50   49.18    0.69\n",
            "  0     400       1510.72      3615.81   3009.21    91.64   62.71   62.61   62.81    0.77\n",
            "  0     600        910.24      3537.96   2306.39    92.85   69.41   71.00   67.89    0.81\n",
            "  0     800        901.83      3582.69   2268.20    93.61   78.32   79.45   77.23    0.86\n",
            "  0    1000       1193.78      4128.27   2544.55    94.02   78.49   78.99   78.00    0.86\n",
            "  1    1200       1312.34      4455.21   2543.85    94.28   81.24   81.36   81.12    0.88\n",
            "  1    1400       1523.09      4617.80   2209.52    94.68   83.88   83.93   83.83    0.89\n",
            "  1    1600       1942.98      5414.65   2407.12    94.89   85.03   85.72   84.35    0.90\n",
            "  2    1800       2186.11      5605.44   2615.46    94.96   85.43   85.63   85.24    0.90\n",
            "  3    2000       2818.53      6669.44   2758.50    95.23   86.12   86.37   85.86    0.91\n",
            "  3    2200       2769.02      6809.72   2356.48    95.28   86.27   86.68   85.86    0.91\n",
            "  4    2400       3278.86      7130.69   2390.79    95.33   86.30   86.57   86.03    0.91\n",
            "  5    2600       3345.22      6544.01   2000.53    95.42   87.26   87.12   87.41    0.91\n",
            "  6    2800       2968.78      6147.35   1714.37    95.49   87.60   87.69   87.51    0.92\n",
            "  7    3000       2942.72      5572.82   1419.76    95.47   88.05   88.57   87.53    0.92\n",
            "  8    3200       3383.95      5119.80   1398.18    95.49   86.81   86.61   87.01    0.91\n",
            "  9    3400       3029.86      4718.65   1283.57    95.59   87.59   87.66   87.51    0.92\n",
            " 10    3600       3316.34      4443.25   1323.60    95.55   87.58   87.86   87.31    0.92\n",
            " 11    3800       3201.80      4266.11   1139.00    95.55   87.66   87.78   87.55    0.92\n",
            " 12    4000       3117.92      3980.61   1076.55    95.53   87.87   88.19   87.56    0.92\n",
            " 13    4200       2778.73      3750.19    953.46    95.57   87.84   88.37   87.31    0.92\n",
            " 14    4400       2740.13      3524.30    858.41    95.56   87.95   88.87   87.06    0.92\n",
            " 15    4600       3321.46      3320.58    994.72    95.49   88.03   88.46   87.60    0.92\n",
            " 16    4800       3140.54      3145.24    798.88    95.45   87.98   88.52   87.45    0.92\n",
            " 17    5000       3002.24      3137.64    759.24    95.51   88.14   88.28   88.00    0.92\n",
            " 18    5200       3774.30      2930.02    922.25    95.60   87.15   87.76   86.55    0.91\n",
            " 19    5400       3313.93      2739.20    827.48    95.47   87.58   87.86   87.31    0.92\n",
            " 20    5600       3744.07      2643.69    841.63    95.55   88.34   89.00   87.68    0.92\n",
            " 21    5800       3009.28      2560.06    723.06    95.54   87.54   88.14   86.94    0.92\n",
            " 22    6000       2942.22      2454.05    690.05    95.60   87.75   87.95   87.55    0.92\n",
            " 23    6200       3172.15      2322.61    693.28    95.55   87.88   87.97   87.78    0.92\n",
            " 24    6400       3415.26      2262.99    711.63    95.59   87.71   88.17   87.26    0.92\n",
            " 25    6600       3851.96      2196.94    719.60    95.59   87.88   88.07   87.70    0.92\n",
            " 25    6800       4203.21      2140.44    703.65    95.46   87.34   87.91   86.77    0.91\n",
            " 26    7000       3263.18      2041.23    673.19    95.61   88.07   88.55   87.60    0.92\n",
            " 27    7200       4859.01      1949.80    639.18    95.57   87.82   88.28   87.36    0.92\n",
            "\u001b[38;5;2m✔ Saved pipeline to output directory\u001b[0m\n",
            "output\\model\\model-last\n"
          ]
        },
        {
          "name": "stderr",
          "output_type": "stream",
          "text": [
            "[2023-07-28 11:54:28,458] [INFO] Set up nlp object from config\n",
            "[2023-07-28 11:54:28,470] [INFO] Pipeline: ['tok2vec', 'tagger', 'ner']\n",
            "[2023-07-28 11:54:28,471] [INFO] Created vocabulary\n",
            "[2023-07-28 11:54:28,473] [INFO] Finished initializing nlp object\n",
            "[2023-07-28 11:54:54,064] [INFO] Initialized pipeline components: ['tok2vec', 'tagger', 'ner']\n"
          ]
        }
      ],
      "source": [
        "# !python -m spacy train data/conll2003/config.cfg --output model.spacy\n",
        "# !python -m spacy train data/conll2003/config.cfg --output-path output/model --train_corpus data/spacyNER_data/train.json --dev_corpus data/spacyNER_data/valid.json -G -p tagger,ner\n",
        "# !python -m spacy train data/conll2003/config.cfg --output-path output/model\n",
        "!python -m spacy train data/conll2003/config.cfg --output ./output/model --paths.train data/spacyNER_data/train.spacy --paths.dev data/spacyNER_data/valid.spacy"
      ]
    },
    {
      "cell_type": "markdown",
      "metadata": {
        "id": "NWj_XbNtwTw0"
      },
      "source": [
        "Notice how the performance improves with each iteration!\n",
        "## Evaluating the model with test data set (`spacyNER_data/test.json`)"
      ]
    },
    {
      "cell_type": "markdown",
      "metadata": {
        "id": "2_zTrgq2wTw1"
      },
      "source": [
        "### On Trained model (`model/model-best`)"
      ]
    },
    {
      "cell_type": "code",
      "execution_count": 47,
      "metadata": {
        "colab": {
          "base_uri": "https://localhost:8080/"
        },
        "id": "dxuTnZoVwTw1",
        "outputId": "a44c3bb8-5268-40fc-c40a-c9bcf1a496d8"
      },
      "outputs": [
        {
          "name": "stdout",
          "output_type": "stream",
          "text": [
            "\u001b[38;5;4mℹ Using CPU\u001b[0m\n",
            "\u001b[1m\n",
            "================================== Results ==================================\u001b[0m\n",
            "\n",
            "TOK     -    \n",
            "TAG     95.08\n",
            "NER P   81.59\n",
            "NER R   81.13\n",
            "NER F   81.36\n",
            "SPEED   29291\n",
            "\n",
            "\u001b[1m\n",
            "=============================== NER (per type) ===============================\u001b[0m\n",
            "\n",
            "           P       R       F\n",
            "LOC    87.50   84.35   85.90\n",
            "PER    85.85   84.42   85.13\n",
            "ORG    74.80   77.54   76.15\n",
            "MISC   75.00   74.36   74.68\n",
            "\n",
            "\u001b[38;5;2m✔ Generated 25 parses as HTML\u001b[0m\n",
            "output\n"
          ]
        },
        {
          "name": "stderr",
          "output_type": "stream",
          "text": [
            "C:\\Users\\mccar\\AppData\\Local\\Packages\\PythonSoftwareFoundation.Python.3.10_qbz5n2kfra8p0\\LocalCache\\local-packages\\Python310\\site-packages\\spacy\\displacy\\__init__.py:213: UserWarning: [W006] No entities to visualize found in Doc object. If this is surprising to you, make sure the Doc was processed using a model that supports named entity recognition, and check the `doc.ents` property manually if necessary.\n",
            "  warnings.warn(Warnings.W006)\n"
          ]
        }
      ],
      "source": [
        "#create a folder to store the output and visualizations. \n",
        "# !mkdir result\n",
        "# os.mkdir('result')\n",
        "!python -m spacy evaluate output/model/model-best data/spacyNER_data/test.spacy -dp output\n",
        "# !python -m spacy evaluate model/model-final data/test.txt.json -dp result"
      ]
    },
    {
      "cell_type": "markdown",
      "metadata": {
        "id": "4DHk91sbwTw1"
      },
      "source": [
        "a Visualization of the entity tagged test data can be seen in result/entities.html folder. "
      ]
    },
    {
      "cell_type": "markdown",
      "metadata": {
        "id": "ZRGGHohpwTw2"
      },
      "source": [
        "### On spacy's Pretrained NER model (`en_core_web_sm`)"
      ]
    },
    {
      "cell_type": "code",
      "execution_count": 48,
      "metadata": {
        "colab": {
          "base_uri": "https://localhost:8080/"
        },
        "id": "T0gCT9f-iwjN",
        "outputId": "0c3670e2-8e6c-4234-9d5c-16e06fd1e7bf"
      },
      "outputs": [],
      "source": [
        "# !python -m spacy download en_core_web_sm"
      ]
    },
    {
      "cell_type": "code",
      "execution_count": 51,
      "metadata": {
        "colab": {
          "base_uri": "https://localhost:8080/"
        },
        "id": "MMnN80NDwTw2",
        "outputId": "e5f7b022-ff6e-426b-d471-1d101b2249fd"
      },
      "outputs": [
        {
          "name": "stdout",
          "output_type": "stream",
          "text": [
            "\u001b[38;5;4mℹ Using CPU\u001b[0m\n",
            "\u001b[1m\n",
            "================================== Results ==================================\u001b[0m\n",
            "\n",
            "TOK      -    \n",
            "TAG      86.59\n",
            "POS      -    \n",
            "MORPH    -    \n",
            "LEMMA    -    \n",
            "UAS      -    \n",
            "LAS      -    \n",
            "NER P    6.36 \n",
            "NER R    9.60 \n",
            "NER F    7.65 \n",
            "SENT P   93.75\n",
            "SENT R   96.96\n",
            "SENT F   95.33\n",
            "SPEED    10154\n",
            "\n",
            "\u001b[1m\n",
            "=============================== NER (per type) ===============================\u001b[0m\n",
            "\n",
            "                  P       R       F\n",
            "ORG           42.87   30.40   35.58\n",
            "LOC           48.05    2.22    4.24\n",
            "PER            0.00    0.00    0.00\n",
            "GPE            0.00    0.00    0.00\n",
            "EVENT          0.00    0.00    0.00\n",
            "DATE           0.00    0.00    0.00\n",
            "MISC           0.00    0.00    0.00\n",
            "ORDINAL        0.00    0.00    0.00\n",
            "TIME           0.00    0.00    0.00\n",
            "NORP           0.00    0.00    0.00\n",
            "PERSON         0.00    0.00    0.00\n",
            "CARDINAL       0.00    0.00    0.00\n",
            "LAW            0.00    0.00    0.00\n",
            "MONEY          0.00    0.00    0.00\n",
            "QUANTITY       0.00    0.00    0.00\n",
            "PERCENT        0.00    0.00    0.00\n",
            "WORK_OF_ART    0.00    0.00    0.00\n",
            "PRODUCT        0.00    0.00    0.00\n",
            "FAC            0.00    0.00    0.00\n",
            "LANGUAGE       0.00    0.00    0.00\n",
            "\n",
            "\u001b[38;5;2m✔ Generated 25 parses as HTML\u001b[0m\n",
            "output\n"
          ]
        },
        {
          "name": "stderr",
          "output_type": "stream",
          "text": [
            "C:\\Users\\mccar\\AppData\\Local\\Packages\\PythonSoftwareFoundation.Python.3.10_qbz5n2kfra8p0\\LocalCache\\local-packages\\Python310\\site-packages\\spacy\\displacy\\__init__.py:213: UserWarning: [W006] No entities to visualize found in Doc object. If this is surprising to you, make sure the Doc was processed using a model that supports named entity recognition, and check the `doc.ents` property manually if necessary.\n",
            "  warnings.warn(Warnings.W006)\n"
          ]
        }
      ],
      "source": [
        "# !mkdir pretrained_result\n",
        "# os.mkdir('pretrained_result')\n",
        "!python -m spacy evaluate en_core_web_sm data/spacyNER_data/test.spacy -dp output"
      ]
    },
    {
      "cell_type": "markdown",
      "metadata": {
        "id": "6GiGnqnpwTw3"
      },
      "source": [
        "a Visualization of the entity tagged test data can be seen in pretrained_result/entities.html folder. "
      ]
    }
  ],
  "metadata": {
    "accelerator": "GPU",
    "colab": {
      "collapsed_sections": [],
      "name": "04_NER_using_spaCy_CoNLL.ipynb",
      "provenance": []
    },
    "kernelspec": {
      "display_name": "Python 3",
      "language": "python",
      "name": "python3"
    },
    "language_info": {
      "codemirror_mode": {
        "name": "ipython",
        "version": 3
      },
      "file_extension": ".py",
      "mimetype": "text/x-python",
      "name": "python",
      "nbconvert_exporter": "python",
      "pygments_lexer": "ipython3",
      "version": "3.10.11"
    }
  },
  "nbformat": 4,
  "nbformat_minor": 0
}
