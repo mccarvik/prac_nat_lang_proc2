{
 "cells": [
  {
   "cell_type": "code",
   "execution_count": 8,
   "metadata": {},
   "outputs": [],
   "source": [
    "#We need texacy, which inturn loads spacy library\n",
    "# !pip install textacy==0.9.1\n",
    "# !python -m spacy download en_core_web_sm\n",
    "\n",
    "import spacy\n",
    "import textacy\n",
    "# import textacy.ke\n",
    "import textacy.extract.keyterms as kt\n",
    "from textacy import *\n",
    "\n"
   ]
  },
  {
   "cell_type": "code",
   "execution_count": 6,
   "metadata": {},
   "outputs": [],
   "source": [
    "#Load a spacy model, which will be used for all further processing.\n",
    "en = textacy.load_spacy_lang(\"en_core_web_sm\")\n",
    "\n",
    "#Let us use a sample text file, nlphistory.txt, which is the text from the history section of Wikipedia's\n",
    "#page on Natural Language Processing \n",
    "#https://en.wikipedia.org/wiki/Natural_language_processing\n",
    "\n",
    "mytext = open(\"data/nlphistory.txt\").read()\n",
    "\n",
    "#convert the text into a spacy document.\n",
    "doc = textacy.make_spacy_doc(mytext, lang=en)"
   ]
  },
  {
   "cell_type": "code",
   "execution_count": 9,
   "metadata": {},
   "outputs": [
    {
     "data": {
      "text/plain": [
       "[('successful natural language processing system', 0.024625341403960145),\n",
       " ('statistical machine translation system', 0.024508421175294396),\n",
       " ('natural language system', 0.020414310118706182),\n",
       " ('statistical natural language processing', 0.0184803120836678),\n",
       " ('natural language task', 0.015718423539873877)]"
      ]
     },
     "execution_count": 9,
     "metadata": {},
     "output_type": "execute_result"
    }
   ],
   "source": [
    "kt.textrank(doc, topn=5)"
   ]
  },
  {
   "cell_type": "code",
   "execution_count": 12,
   "metadata": {},
   "outputs": [
    {
     "name": "stdout",
     "output_type": "stream",
     "text": [
      "Textrank output:  ['successful natural language processing system', 'statistical machine translation system', 'natural language system', 'statistical natural language processing', 'natural language task']\n",
      "SGRank output:  ['natural language processing system', 'statistical machine translation', 'early', 'research', 'late 1980']\n"
     ]
    }
   ],
   "source": [
    "#Print the keywords using TextRank algorithm, as implemented in Textacy.\n",
    "print(\"Textrank output: \", [kps for kps, weights in kt.textrank(doc, normalize=\"lemma\", topn=5)])\\\n",
    "#Print the key words and phrases, using SGRank algorithm, as implemented in Textacy\n",
    "print(\"SGRank output: \", [kps for kps, weights in kt.sgrank(doc, topn=5)])\n"
   ]
  },
  {
   "cell_type": "code",
   "execution_count": 17,
   "metadata": {},
   "outputs": [
    {
     "name": "stdout",
     "output_type": "stream",
     "text": [
      "[{'natural language processing system'}, {'statistical machine translation'}, {'statistical model'}, {'late 1980'}, {'research'}, {'example'}, {'world'}, {'ELIZA'}, {'early'}, {'real'}]\n"
     ]
    }
   ],
   "source": [
    "#To address the issue of overlapping key phrases, textacy has a function: aggregage_term_variants.\n",
    "#Choosing one of the grouped terms per item will give us a list of non-overlapping key phrases!\n",
    "terms = set([term for term,weight in kt.sgrank(doc)])\n",
    "import textacy.extract.utils as ut\n",
    "print(ut.aggregate_term_variants(terms))"
   ]
  },
  {
   "cell_type": "code",
   "execution_count": 18,
   "metadata": {},
   "outputs": [
    {
     "name": "stdout",
     "output_type": "stream",
     "text": [
      "[history, natural language processing, 1950s, work, earlier periods, Alan Turing, article, \"Intelligence, which, what, Turing test, criterion, intelligence, Georgetown experiment, fully automatic translation, more than sixty Russian sentences, English, authors, three or five years, machine translation, real progress, ALPAC report, which, ten-year-long research, expectations, funding, machine translation, Little further research, machine translation, late 1980s, first statistical machine translation systems, notably successful natural language processing systems, 1960s, natural language system, restricted \"blocks worlds, restricted vocabularies, ELIZA, simulation, Rogerian psychotherapist, Joseph Weizenbaum, almost no information, human thought, emotion, ELIZA, startlingly human-like interaction, \"patient, very small knowledge base, generic response, example, My head, you, your head, 1970s, many programmers, \"conceptual ontologies, which, real-world information, computer-understandable data, Examples, MARGIE, Schank, SAM, (Cullingford, PAM, (Wilensky, TaleSpin, (Meehan, QUALM, Lehnert, Politics, (Carbonell, Plot Units, Lehnert, time, many chatterbots, PARRY, Racter, Jabberwacky, 1980s, most natural language processing systems, complex sets, hand-written rules, late 1980s, revolution, natural language processing, introduction, machine learning algorithms, language processing, This, both the steady increase, computational power, Moore's law, gradual lessening, dominance, Chomskyan theories, linguistics, e.g. transformational grammar, theoretical underpinnings, sort, corpus linguistics, that, machine-learning approach, language, Some, earliest-used machine learning algorithms, decision trees, systems, existing hand-written rules, speech, use, hidden Markov models, natural language processing, research, statistical models, which, soft, probabilistic decisions, real-valued weights, features, input data, cache language models, which, many speech recognition systems, examples, such statistical models, Such models, unfamiliar input, that, errors, real-world data, more reliable results, larger system, multiple subtasks, notable early successes, field, machine translation, IBM Research, successively more complicated statistical models, systems, advantage, existing multilingual textual corpora, that, Parliament, Canada, European Union, result, laws, translation, governmental proceedings, official languages, corresponding systems, government, most other systems, corpora, tasks, systems, which, major limitation, success, systems, result, great deal, research, methods, limited amounts, data, Recent research, unsupervised and semi-supervised learning algorithms, Such algorithms, data, that, desired answers, combination, annotated and non-annotated data, task, supervised learning, less accurate results, given amount, input data, enormous amount, non-annotated data, other things, entire content, World Wide Web, which, inferior results, algorithm, low enough time complexity, representation learning, deep neural network-style machine learning methods, natural language processing, part, flurry, results, such techniques[4][5, -art, many natural language tasks, example, language modeling,[6, many others, Popular techniques, use, word embeddings, semantic properties, words, increase, end, higher-level task, (e.g., question answering, pipeline, separate intermediate tasks, speech, areas, shift, substantial changes, NLP systems, deep neural network-based approaches, new paradigm distinct, statistical natural language processing, instance, term neural machine translation, NMT, fact, deep learning-based approaches, machine translation, sequence, need, intermediate steps, word alignment, language modeling, that, statistical machine translation, SMT]\n"
     ]
    }
   ],
   "source": [
    "#A way to look at key phrases is just consider all noun chunks as potential ones. \n",
    "#However, keep in mind this will result in a lot of phrases, and no way to rank them!\n",
    "\n",
    "print([chunk for chunk in textacy.extract.noun_chunks(doc)])"
   ]
  },
  {
   "cell_type": "markdown",
   "metadata": {},
   "source": [
    "Textacy also has a bunch of other information extraction functions, many of them based on regular expression patterns and heuristics to address extracting specific expressions such as acronyms and quotations. Apart from these, we can also extract matching custom regular expressions including POS tag patterns, or look for statements involving an entity, subject-verb-object tuples etc. We will discuss some of these as they come, in this chapter. \n",
    "\n",
    "Documentation: https://chartbeat-labs.github.io/textacy/build/html/index.html"
   ]
  }
 ],
 "metadata": {
  "kernelspec": {
   "display_name": "Python 3",
   "language": "python",
   "name": "python3"
  },
  "language_info": {
   "codemirror_mode": {
    "name": "ipython",
    "version": 3
   },
   "file_extension": ".py",
   "mimetype": "text/x-python",
   "name": "python",
   "nbconvert_exporter": "python",
   "pygments_lexer": "ipython3",
   "version": "3.10.11"
  }
 },
 "nbformat": 4,
 "nbformat_minor": 2
}
