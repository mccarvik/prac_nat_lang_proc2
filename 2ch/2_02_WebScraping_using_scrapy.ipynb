{
 "cells": [
  {
   "cell_type": "code",
   "execution_count": 2,
   "metadata": {},
   "outputs": [],
   "source": [
    "import scrapy\n",
    "\n",
    "class BookSpider(scrapy.Spider):\n",
    "    name = \"books\"\n",
    "\n",
    "    start_urls = [\"http://books.toscrape.com/\"]"
   ]
  },
  {
   "cell_type": "code",
   "execution_count": 3,
   "metadata": {},
   "outputs": [],
   "source": [
    "def parse(self, response):\n",
    "    print(response.url)"
   ]
  },
  {
   "cell_type": "code",
   "execution_count": 6,
   "metadata": {},
   "outputs": [],
   "source": [
    "# cat_names = response.xpath(\"//div[@class='side_categories']/ul/li/ul/li/a/text()\").getall()\n",
    "# cat_urls = response.xpath(\"//div[@class='side_categories']/ul/li/ul/li/a/@href\").getall()\n"
   ]
  },
  {
   "cell_type": "code",
   "execution_count": 7,
   "metadata": {},
   "outputs": [],
   "source": [
    "def parse(self, response):\n",
    "    num_cats_to_parse = 5\n",
    "    cat_names = response.xpath(\"//div[@class='side_categories']/ul/li/ul/li/a/text()\").getall()\n",
    "    cat_urls = response.xpath(\"//div[@class='side_categories']/ul/li/ul/li/a/@href\").getall()\n",
    "    for _, name, url in zip(range(num_cats_to_parse), cat_names, cat_urls):\n",
    "        name = name.strip()\n",
    "        url = response.urljoin(url)\n",
    "        yield scrapy.Request(url,\n",
    "                                callback=self.parse_category,\n",
    "                                cb_kwargs=dict(cat_name=name))"
   ]
  },
  {
   "cell_type": "code",
   "execution_count": 1,
   "metadata": {},
   "outputs": [],
   "source": [
    "import csv\n",
    "\n",
    "class BookCsvPipeline():\n",
    "    def open_spider(self, spider):\n",
    "        self.file = open(\"output.csv\", \"at\")\n",
    "        fieldnames = [\"title\",\n",
    "                      \"price\",\n",
    "                      \"stock\",\n",
    "                      \"rating\",\n",
    "                      \"category\"]\n",
    "        self.writer = csv.DictWriter(self.file, fieldnames=fieldnames)\n",
    "        if self.file.tell() == 0:\n",
    "            self.writer.writeheader()\n",
    "\n",
    "    def close_spider(self, spider):\n",
    "        self.file.close()\n",
    "\n",
    "    def process_item(self, item, spider):\n",
    "        self.writer.writerow(item)\n",
    "        return item"
   ]
  },
  {
   "cell_type": "code",
   "execution_count": null,
   "metadata": {},
   "outputs": [],
   "source": [
    "ITEM_PIPELINES = {\n",
    "    'tutorial.pipelines.BookCsvPipeline': 300,\n",
    "}"
   ]
  }
 ],
 "metadata": {
  "kernelspec": {
   "display_name": "Python 3",
   "language": "python",
   "name": "python3"
  },
  "language_info": {
   "codemirror_mode": {
    "name": "ipython",
    "version": 3
   },
   "file_extension": ".py",
   "mimetype": "text/x-python",
   "name": "python",
   "nbconvert_exporter": "python",
   "pygments_lexer": "ipython3",
   "version": "3.10.11"
  },
  "orig_nbformat": 4
 },
 "nbformat": 4,
 "nbformat_minor": 2
}
