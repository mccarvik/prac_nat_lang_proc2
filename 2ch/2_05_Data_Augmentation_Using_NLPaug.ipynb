{
 "cells": [
  {
   "cell_type": "markdown",
   "metadata": {
    "id": "yavI9mt4gayF"
   },
   "source": [
    "## Data Augmentation using NLPaug\n",
    "\n",
    "This notebook demostrate the usage of a character augmenter, word augmenter. There are other types such as augmentation for sentences, audio, spectrogram inputs etc. All of the types many before mentioned types and many more can be found at the [github repo](https://github.com/makcedward/nlpaug) and [docs](https://nlpaug.readthedocs.io/en/latest/) of nlpaug."
   ]
  },
  {
   "cell_type": "code",
   "execution_count": 118,
   "metadata": {
    "ExecuteTime": {
     "end_time": "2021-04-03T11:15:03.818048Z",
     "start_time": "2021-04-03T11:15:01.468101Z"
    },
    "colab": {
     "base_uri": "https://localhost:8080/"
    },
    "id": "cF5zJdr-kAPY",
    "outputId": "3e4f51e9-151e-4de0-bf29-17056be5ddf3"
   },
   "outputs": [],
   "source": [
    "# To install only the requirements of this notebook, uncomment the lines below and run this cell\n",
    "\n",
    "# ===========================\n",
    "\n",
    "# !pip install numpy==1.19.5\n",
    "# !pip install nlpaug==0.0.14\n",
    "# !pip install wget==3.2\n",
    "# !pip install matplotlib==3.2.2\n",
    "# !pip install requests==2.23.0\n",
    "\n",
    "# ==========================="
   ]
  },
  {
   "cell_type": "code",
   "execution_count": 119,
   "metadata": {
    "id": "XReg1SQkrXUR"
   },
   "outputs": [],
   "source": [
    "# To install the requirements for the entire chapter, uncomment the lines below and run this cell\n",
    "\n",
    "# ===========================\n",
    "\n",
    "# try :\n",
    "#     import google.colab\n",
    "#     !curl https://raw.githubusercontent.com/practical-nlp/practical-nlp/master/Ch2/ch2-requirements.txt | xargs -n 1 -L 1 pip install\n",
    "# except ModuleNotFoundError :\n",
    "#     !pip install -r \"ch2-requirements.txt\"\n",
    "\n",
    "# ==========================="
   ]
  },
  {
   "cell_type": "code",
   "execution_count": 120,
   "metadata": {
    "ExecuteTime": {
     "end_time": "2021-04-03T11:15:11.595619Z",
     "start_time": "2021-04-03T11:15:11.593618Z"
    },
    "id": "8yhkOl3cgZ28"
   },
   "outputs": [],
   "source": [
    "# This will be the base text which we will be using throughout this notebook\n",
    "text=\"The quick brown fox jumps over the lazy dog .\""
   ]
  },
  {
   "cell_type": "code",
   "execution_count": 121,
   "metadata": {
    "ExecuteTime": {
     "end_time": "2021-04-03T11:15:15.458928Z",
     "start_time": "2021-04-03T11:15:12.067195Z"
    },
    "colab": {
     "base_uri": "https://localhost:8080/"
    },
    "id": "ekFhzIWHUmoj",
    "outputId": "259fdc96-6559-420f-9772-349462187764"
   },
   "outputs": [],
   "source": [
    "import nlpaug.augmenter.char as nac\n",
    "import nlpaug.augmenter.word as naw\n",
    "import nlpaug.augmenter.sentence as nas\n",
    "import nlpaug.flow as nafc\n",
    "from nlpaug.util import Action\n",
    "import os\n",
    "# !git clone https://github.com/makcedward/nlpaug.git\n",
    "os.environ[\"MODEL_DIR\"] = 'nlpaug/model/'"
   ]
  },
  {
   "cell_type": "markdown",
   "metadata": {
    "id": "-Xo3CzNhh-zU"
   },
   "source": [
    "### Augmentation at the Character Level\n",
    "\n",
    "\n",
    "1.   OCR Augmenter: To read textual data from on image, we need an OCR(optical character recognition) model. Once the text is extracted from the image, there may be errors like; '0' instead of an 'o', '2' instead of 'z' and other such similar errors.  \n",
    "2.   Keyboard Augmenter: While typing/texting typos are fairly common this augmenter simulates the errors by substituting characters in words with ones at a similar distance on a keyboard.\n",
    "\n"
   ]
  },
  {
   "cell_type": "code",
   "execution_count": 122,
   "metadata": {
    "ExecuteTime": {
     "end_time": "2021-04-03T11:15:15.474943Z",
     "start_time": "2021-04-03T11:15:15.459929Z"
    },
    "colab": {
     "base_uri": "https://localhost:8080/"
    },
    "id": "lfAaokTmjzak",
    "outputId": "32ae0735-9724-4c73-b5ae-6c58a3ce86bc"
   },
   "outputs": [
    {
     "name": "stdout",
     "output_type": "stream",
     "text": [
      "Original:\n",
      "The quick brown fox jumps over the lazy dog .\n",
      "Augmented Texts:\n",
      "['The quick bk0wn fox jumps over the 1a2y dog.', 'The quick brown fox jomp8 over the lazy du9.', 'The 9oick brown fox jomp8 0vek the lazy dog.']\n"
     ]
    }
   ],
   "source": [
    "# OCR augmenter\n",
    "# import nlpaug.augmenter.char as nac\n",
    "\n",
    "aug = nac.OcrAug()  \n",
    "augmented_texts = aug.augment(text, n=3) # specifying n=3 gives us only 3 augmented versions of the sentence.\n",
    "\n",
    "print(\"Original:\")\n",
    "print(text)\n",
    "\n",
    "print(\"Augmented Texts:\")\n",
    "print(augmented_texts)"
   ]
  },
  {
   "cell_type": "code",
   "execution_count": 123,
   "metadata": {
    "ExecuteTime": {
     "end_time": "2021-04-03T11:15:16.903143Z",
     "start_time": "2021-04-03T11:15:16.880652Z"
    },
    "colab": {
     "base_uri": "https://localhost:8080/"
    },
    "id": "fKQCpS35j9Ie",
    "outputId": "ad301a33-bed2-4a00-d34c-083a181c84ef"
   },
   "outputs": [
    {
     "name": "stdout",
     "output_type": "stream",
     "text": [
      "Original:\n",
      "The quick brown fox jumps over the lazy dog .\n",
      "Augmented Text:\n",
      "['The q tiFk grodn fox jumps oGe% the lazy dog.', 'The quick broQG fox jumOq Kv@r the lazy dog.', 'The quick bro@H fox juJ9s )ger the lazy dog.']\n"
     ]
    }
   ],
   "source": [
    "# Keyboard Augmenter\n",
    "# import nlpaug.augmenter.word as naw\n",
    "\n",
    "\n",
    "aug = nac.KeyboardAug()\n",
    "augmented_text = aug.augment(text, n=3) # specifying n=3 gives us only 3 augmented versions of the sentence.\n",
    "\n",
    "print(\"Original:\")\n",
    "print(text)\n",
    "\n",
    "print(\"Augmented Text:\")\n",
    "print(augmented_text)"
   ]
  },
  {
   "cell_type": "markdown",
   "metadata": {
    "id": "XbfPMwZWmper"
   },
   "source": [
    "There are other types of character augmenters too. Their details are avaiable in the links mentioned at the beginning of this notebook."
   ]
  },
  {
   "cell_type": "markdown",
   "metadata": {
    "id": "MufLJXsQm4i1"
   },
   "source": [
    "### Augmentation at the Word Level\n",
    "\n",
    "Augmentation is important at the word level as well , here we use word2vec to insert or substitute a similar word."
   ]
  },
  {
   "cell_type": "markdown",
   "metadata": {
    "id": "Tc_K1-niTGFP"
   },
   "source": [
    "**Spelling** **augmentor**\n"
   ]
  },
  {
   "cell_type": "code",
   "execution_count": 124,
   "metadata": {
    "ExecuteTime": {
     "end_time": "2021-04-03T11:16:58.980739Z",
     "start_time": "2021-04-03T11:16:58.532879Z"
    },
    "id": "2Qzmv4QCYrJe"
   },
   "outputs": [],
   "source": [
    "# Downloading the required txt file\n",
    "import wget\n",
    "\n",
    "# if not os.path.exists(\"spelling_en.txt\"):\n",
    "#     wget.download(\"https://raw.githubusercontent.com/makcedward/nlpaug/5238e0be734841b69651d2043df535d78a8cc594/nlpaug/res/word/spelling/spelling_en.txt\")\n",
    "# else:\n",
    "#     print(\"File already exists\")"
   ]
  },
  {
   "cell_type": "code",
   "execution_count": 125,
   "metadata": {
    "ExecuteTime": {
     "end_time": "2021-04-03T11:17:00.723918Z",
     "start_time": "2021-04-03T11:17:00.619823Z"
    },
    "colab": {
     "base_uri": "https://localhost:8080/"
    },
    "id": "gOHrgDIill2F",
    "outputId": "e6b83876-f478-479a-c47e-7a484f8407c4"
   },
   "outputs": [
    {
     "name": "stdout",
     "output_type": "stream",
     "text": [
      "Original:\n",
      "The quick brown fox jumps over the lazy dog .\n",
      "Augmented Texts:\n",
      "['The qchick brown fox jumps overt the grazy dog.']\n"
     ]
    }
   ],
   "source": [
    "# Substitute word by spelling mistake words dictionary\n",
    "aug = naw.SpellingAug('data/spelling_en.txt')\n",
    "augmented_texts = aug.augment(text)\n",
    "print(\"Original:\")\n",
    "print(text)\n",
    "print(\"Augmented Texts:\")\n",
    "print(augmented_texts)"
   ]
  },
  {
   "cell_type": "markdown",
   "metadata": {
    "id": "eaeQOtVqTQKG"
   },
   "source": [
    "**Word embeddings augmentor**"
   ]
  },
  {
   "cell_type": "code",
   "execution_count": 126,
   "metadata": {
    "ExecuteTime": {
     "end_time": "2021-04-03T11:42:53.178843Z",
     "start_time": "2021-04-03T11:42:53.163829Z"
    },
    "colab": {
     "base_uri": "https://localhost:8080/"
    },
    "id": "jIB9bMi5KWZ5",
    "outputId": "addbe83a-7c57-4eb0-81aa-575700dcb8c9"
   },
   "outputs": [
    {
     "name": "stdout",
     "output_type": "stream",
     "text": [
      "Model at data/bigdata/goog_vec/GoogleNews-vectors-negative300.bin\n"
     ]
    }
   ],
   "source": [
    "import gzip\n",
    "import shutil\n",
    "\n",
    "gn_vec_zip_path = \"data/bigdata/goog_vec/GoogleNews-vectors-negative300.bin.gz\"\n",
    "gn_vec_path = \"data/bigdata/goog_vec/GoogleNews-vectors-negative300.bin\"\n",
    "# Extracting the required model\n",
    "# with gzip.open(gn_vec_zip_path, 'rb') as f_in:\n",
    "#     with open(gn_vec_path, 'wb') as f_out:\n",
    "#         shutil.copyfileobj(f_in, f_out)\n",
    "# else:\n",
    "#     gn_vec_path = \"../Ch3/\" + gn_vec_path\n",
    "\n",
    "\n",
    "# gn_vec_path = \"GoogleNews-vectors-negative300.bin\"\n",
    "# if not os.path.exists(\"GoogleNews-vectors-negative300.bin\"):\n",
    "#     if not os.path.exists(\"../Ch3/GoogleNews-vectors-negative300.bin\"):\n",
    "#         # Downloading the reqired model\n",
    "#         if not os.path.exists(\"../Ch3/GoogleNews-vectors-negative300.bin.gz\"):\n",
    "#             if not os.path.exists(\"GoogleNews-vectors-negative300.bin.gz\"):\n",
    "#                 wget.download(\"https://s3.amazonaws.com/dl4j-distribution/GoogleNews-vectors-negative300.bin.gz\")\n",
    "#             gn_vec_zip_path = \"GoogleNews-vectors-negative300.bin.gz\"\n",
    "#         else:\n",
    "#             gn_vec_zip_path = \"../Ch3/GoogleNews-vectors-negative300.bin.gz\"\n",
    "#         # Extracting the required model\n",
    "#         with gzip.open(gn_vec_zip_path, 'rb') as f_in:\n",
    "#             with open(gn_vec_path, 'wb') as f_out:\n",
    "#                 shutil.copyfileobj(f_in, f_out)\n",
    "#     else:\n",
    "#         gn_vec_path = \"../Ch3/\" + gn_vec_path\n",
    "print(f\"Model at {gn_vec_path}\")"
   ]
  },
  {
   "cell_type": "markdown",
   "metadata": {
    "id": "Jf_QHk-SgegN"
   },
   "source": [
    "Insert word randomly by word embeddings similarity"
   ]
  },
  {
   "cell_type": "code",
   "execution_count": 129,
   "metadata": {
    "ExecuteTime": {
     "end_time": "2021-04-03T11:44:12.444755Z",
     "start_time": "2021-04-03T11:43:07.255745Z"
    },
    "colab": {
     "base_uri": "https://localhost:8080/"
    },
    "id": "ffUb6s-XTOsQ",
    "outputId": "42d5edef-46fa-4141-ce30-b0306f3bd2af"
   },
   "outputs": [],
   "source": [
    "# model_type: word2vec, glove or fasttext\n",
    "# Initialize the WordEmbsAug class\n",
    "import gensim\n",
    "# aug = naw.WordEmbsAug(\n",
    "#     model_type='word2vec', model_path=gn_vec_path,\n",
    "#     action=\"insert\")\n",
    "\n",
    "model = gensim.models.KeyedVectors.load_word2vec_format(gn_vec_path, binary=True)\n",
    "aug = naw.WordEmbsAug(model_type='word2vec', model=model, action=\"insert\")\n",
    "\n",
    "# augmented_text = aug.augment(text)\n",
    "# print(\"Original:\")\n",
    "# print(text)\n",
    "# print(\"Augmented Text:\")\n",
    "# print(augmented_text)"
   ]
  },
  {
   "cell_type": "code",
   "execution_count": 146,
   "metadata": {},
   "outputs": [
    {
     "name": "stdout",
     "output_type": "stream",
     "text": [
      "Original:\n",
      "The quick brown fox jumps over the lazy dog .\n",
      "Augmented Text:\n",
      "['please The CSG quick brown fox jumps over the ethanol/## lazy dog.']\n"
     ]
    }
   ],
   "source": [
    "# get_vocab depricated, need this\n",
    "def temp():\n",
    "    return model.index_to_key \n",
    "# temp()\n",
    "model.get_vocab = temp\n",
    "\n",
    "augmented_text = aug.augment(text)\n",
    "print(\"Original:\")\n",
    "print(text)\n",
    "print(\"Augmented Text:\")\n",
    "print(augmented_text)"
   ]
  },
  {
   "cell_type": "markdown",
   "metadata": {
    "id": "kUB3Nd4Wghd0"
   },
   "source": [
    "Substitute word by word2vec similarity\n"
   ]
  },
  {
   "cell_type": "code",
   "execution_count": 147,
   "metadata": {
    "ExecuteTime": {
     "end_time": "2021-04-03T11:44:12.948639Z",
     "start_time": "2021-04-03T11:44:12.446757Z"
    },
    "colab": {
     "base_uri": "https://localhost:8080/"
    },
    "id": "pSeZNfQRfy2l",
    "outputId": "4b00468b-0151-405e-eae1-e6d06e442142"
   },
   "outputs": [
    {
     "name": "stdout",
     "output_type": "stream",
     "text": [
      "Original:\n",
      "The quick brown fox jumps over the lazy dog .\n",
      "Augmented Text:\n",
      "['Ravensbruck The seliciclib quick brown fox jumps over the lazy Velupillai dog.']\n"
     ]
    }
   ],
   "source": [
    "# aug = naw.WordEmbsAug(\n",
    "#     model_type='word2vec', model_path=gn_vec_path,\n",
    "#     action=\"substitute\")\n",
    "\n",
    "model = gensim.models.KeyedVectors.load_word2vec_format(gn_vec_path, binary=True)\n",
    "aug = naw.WordEmbsAug(model_type='word2vec', model=model, action=\"insert\")\n",
    "\n",
    "# get_vocab depricated, need this\n",
    "def temp():\n",
    "    return model.index_to_key \n",
    "# temp()\n",
    "model.get_vocab = temp\n",
    "\n",
    "augmented_text = aug.augment(text)\n",
    "print(\"Original:\")\n",
    "print(text)\n",
    "print(\"Augmented Text:\")\n",
    "print(augmented_text)"
   ]
  },
  {
   "cell_type": "markdown",
   "metadata": {
    "id": "reALNlOuDI9u"
   },
   "source": [
    "There are many more features which nlpaug offers you can visit the github repo and documentation for further details"
   ]
  }
 ],
 "metadata": {
  "accelerator": "GPU",
  "colab": {
   "collapsed_sections": [],
   "machine_shape": "hm",
   "name": "05_Data_Augmentation_Using_NLPaug.ipynb",
   "provenance": []
  },
  "kernelspec": {
   "display_name": "Python 3",
   "language": "python",
   "name": "python3"
  },
  "language_info": {
   "codemirror_mode": {
    "name": "ipython",
    "version": 3
   },
   "file_extension": ".py",
   "mimetype": "text/x-python",
   "name": "python",
   "nbconvert_exporter": "python",
   "pygments_lexer": "ipython3",
   "version": "3.10.11"
  }
 },
 "nbformat": 4,
 "nbformat_minor": 1
}
