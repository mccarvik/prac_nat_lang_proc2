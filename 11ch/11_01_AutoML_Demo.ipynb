{
 "cells": [
  {
   "cell_type": "markdown",
   "metadata": {
    "id": "iXFYlwdPNans"
   },
   "source": [
    "In this notebook we will demonstrate Auto ML on the mnist digits dataset. More information about autosklearn and autokeras can be found in the official documents [here](https://automl.github.io/auto-sklearn/master) and [here](https://github.com/keras-team/autokeras) respectively.<br>\n",
    "Note: Auto-sklearn is not available on windows or on MAC OSX."
   ]
  },
  {
   "cell_type": "code",
   "execution_count": 1,
   "metadata": {
    "colab": {
     "base_uri": "https://localhost:8080/"
    },
    "id": "P2zerVlHXoIb",
    "outputId": "43bbf936-34bd-403e-8778-9a4cbe147fa9"
   },
   "outputs": [],
   "source": [
    "# !sudo apt-get install build-essential swig\n",
    "# !curl https://raw.githubusercontent.com/automl/auto-sklearn/master/requirements.txt | xargs -n 1 -L 1 pip install\n",
    "# !pip install auto-sklearn"
   ]
  },
  {
   "cell_type": "markdown",
   "metadata": {
    "id": "YoYPpFPnN7yc"
   },
   "source": [
    "### **Auto-Sklearn** on mnist dataset"
   ]
  },
  {
   "cell_type": "code",
   "execution_count": 2,
   "metadata": {
    "id": "-Ch8b0O3ywBG"
   },
   "outputs": [],
   "source": [
    "# NOTE: auto-sklearn not compatible with windows\n",
    "\n",
    "# import autosklearn.classification\n",
    "\n",
    "# import sklearn.datasets\n",
    "# import sklearn.metrics\n",
    "\n",
    "# import numpy as np\n",
    "# import matplotlib.pyplot as plt\n",
    "\n",
    "# from sklearn.model_selection import train_test_split"
   ]
  },
  {
   "cell_type": "code",
   "execution_count": 3,
   "metadata": {
    "colab": {
     "base_uri": "https://localhost:8080/"
    },
    "id": "Qv-fKz1V3Pvx",
    "outputId": "60f3d395-0a1f-432a-c99c-0244021ff76c"
   },
   "outputs": [],
   "source": [
    "# #load the data\n",
    "# digits = sklearn.datasets.load_digits()\n",
    "# X = digits.data\n",
    "# y = digits.target\n",
    "# X_train, X_test, y_train, y_test = sklearn.model_selection.train_test_split(X, y, random_state=1)\n",
    "\n",
    "# #initialize the classifier\n",
    "# automl = autosklearn.classification.AutoSklearnClassifier()\n",
    "# automl.fit(X_train, y_train)\n",
    "# y_pred = automl.predict(X_test)\n",
    "\n",
    "# #accuracy\n",
    "# print(\"Accuracy score\", sklearn.metrics.accuracy_score(y_test, y_pred))\n"
   ]
  },
  {
   "cell_type": "markdown",
   "metadata": {
    "id": "eM-USO8VYiOr"
   },
   "source": [
    "We achived an accuracy of 98.9%.<br>\n",
    "Now lets understand what exactly happened there."
   ]
  },
  {
   "cell_type": "code",
   "execution_count": 4,
   "metadata": {
    "colab": {
     "base_uri": "https://localhost:8080/"
    },
    "id": "RJgRfTBmXxfr",
    "outputId": "b1112f51-56b0-4a08-9d5f-32a764942ea1"
   },
   "outputs": [],
   "source": [
    "# print(\"Model\\n\",automl.show_models())\n",
    "# print(\"-\")\n",
    "# print(\"Model Statistics\\n\",automl.sprint_statistics())"
   ]
  },
  {
   "cell_type": "markdown",
   "metadata": {
    "id": "Ii04t6ZvO71n"
   },
   "source": [
    "### **Auto-Keras** on mnist dataset"
   ]
  },
  {
   "cell_type": "code",
   "execution_count": 5,
   "metadata": {
    "colab": {
     "base_uri": "https://localhost:8080/"
    },
    "id": "Qabgrg7QTmYx",
    "outputId": "5d6ed1fc-6198-4c02-a70f-51dfcdcef699"
   },
   "outputs": [],
   "source": [
    "# Download the necessary packages. You might have to restart your runtime after this \n",
    "# !pip install autokeras==1.0.2\n",
    "# !pip install tensorflow==2.1.0\n",
    "# !pip install keras-tuner==1.0.1"
   ]
  },
  {
   "cell_type": "code",
   "execution_count": 6,
   "metadata": {
    "id": "uiuEn1tMQ_Sx"
   },
   "outputs": [],
   "source": [
    "# NOTE: from lazypredict.Supervised import LazyClassifier\n",
    "# ^^^^ this is another automl lower-lift package that cycles thru models to pick the best one\n",
    "\n",
    "from tensorflow.keras.datasets import mnist\n",
    "import autokeras as ak\n",
    "import warnings\n",
    "warnings.filterwarnings('ignore')"
   ]
  },
  {
   "cell_type": "code",
   "execution_count": 7,
   "metadata": {
    "colab": {
     "base_uri": "https://localhost:8080/"
    },
    "id": "uin4io1TRBpM",
    "outputId": "df43895d-cb80-452a-b4bd-9b37a840b672"
   },
   "outputs": [
    {
     "name": "stdout",
     "output_type": "stream",
     "text": [
      "(60000, 28, 28)\n",
      "(60000,)\n",
      "[5 0 4]\n"
     ]
    }
   ],
   "source": [
    "(x_train, y_train), (x_test, y_test) = mnist.load_data()\n",
    "print(x_train.shape)\n",
    "print(y_train.shape)\n",
    "print(y_train[:3]) "
   ]
  },
  {
   "cell_type": "code",
   "execution_count": 8,
   "metadata": {
    "id": "nzjHV906RIMU"
   },
   "outputs": [
    {
     "name": "stdout",
     "output_type": "stream",
     "text": [
      "(200, 28, 28)\n"
     ]
    }
   ],
   "source": [
    "split=200\n",
    "\n",
    "x_test = x_test[:split]\n",
    "y_test = y_test[:split]\n",
    "\n",
    "x_train = x_train[:split]\n",
    "y_train = y_train[:split]\n",
    "print(x_train.shape)"
   ]
  },
  {
   "cell_type": "code",
   "execution_count": 12,
   "metadata": {
    "colab": {
     "base_uri": "https://localhost:8080/",
     "height": 1000
    },
    "id": "Vw1xkjmtRE_B",
    "outputId": "390bee20-65cf-41df-af7c-14707a9b2cb7"
   },
   "outputs": [
    {
     "name": "stdout",
     "output_type": "stream",
     "text": [
      "Trial 2 Complete [00h 01m 27s]\n",
      "val_loss: 3.0113697052001953\n",
      "\n",
      "Best val_loss So Far: 0.8118089437484741\n",
      "Total elapsed time: 00h 01m 29s\n",
      "INFO:tensorflow:Oracle triggered exit\n"
     ]
    },
    {
     "name": "stderr",
     "output_type": "stream",
     "text": [
      "INFO:tensorflow:Oracle triggered exit\n"
     ]
    },
    {
     "name": "stdout",
     "output_type": "stream",
     "text": [
      "Epoch 1/2\n",
      "7/7 [==============================] - 1s 30ms/step - loss: 2.1331 - accuracy: 0.2450\n",
      "Epoch 2/2\n",
      "7/7 [==============================] - 0s 28ms/step - loss: 1.1430 - accuracy: 0.7700\n",
      "INFO:tensorflow:Assets written to: .\\image_classifier\\best_model\\assets\n"
     ]
    },
    {
     "name": "stderr",
     "output_type": "stream",
     "text": [
      "INFO:tensorflow:Assets written to: .\\image_classifier\\best_model\\assets\n"
     ]
    },
    {
     "data": {
      "text/plain": [
       "<keras.src.callbacks.History at 0x1e743999ed0>"
      ]
     },
     "execution_count": 12,
     "metadata": {},
     "output_type": "execute_result"
    }
   ],
   "source": [
    "# Initialize the image classifier.\n",
    "# clf = ak.ImageClassifier(max_trials=10) # It tries 10 different models.\n",
    "clf = ak.ImageClassifier(max_trials=1) # It tries 10 different models.\n",
    "# Feed the image classifier with training data.\n",
    "clf.fit(x_train,y_train, epochs=2)"
   ]
  },
  {
   "cell_type": "code",
   "execution_count": 13,
   "metadata": {
    "colab": {
     "base_uri": "https://localhost:8080/"
    },
    "id": "L2y_haC9RJvC",
    "outputId": "e99afcd5-7de4-4ec6-972e-a75d25dd1f53"
   },
   "outputs": [
    {
     "name": "stdout",
     "output_type": "stream",
     "text": [
      "7/7 [==============================] - 0s 6ms/step\n",
      "7/7 [==============================] - 0s 6ms/step\n",
      "[['7']\n",
      " ['2']\n",
      " ['1']\n",
      " ['0']\n",
      " ['4']\n",
      " ['1']\n",
      " ['4']\n",
      " ['4']\n",
      " ['4']\n",
      " ['7']\n",
      " ['0']\n",
      " ['2']\n",
      " ['9']\n",
      " ['0']\n",
      " ['1']\n",
      " ['3']\n",
      " ['4']\n",
      " ['7']\n",
      " ['2']\n",
      " ['4']\n",
      " ['9']\n",
      " ['6']\n",
      " ['4']\n",
      " ['8']\n",
      " ['4']\n",
      " ['0']\n",
      " ['7']\n",
      " ['4']\n",
      " ['0']\n",
      " ['1']\n",
      " ['3']\n",
      " ['1']\n",
      " ['3']\n",
      " ['2']\n",
      " ['8']\n",
      " ['2']\n",
      " ['7']\n",
      " ['1']\n",
      " ['2']\n",
      " ['1']\n",
      " ['1']\n",
      " ['7']\n",
      " ['4']\n",
      " ['2']\n",
      " ['3']\n",
      " ['3']\n",
      " ['3']\n",
      " ['2']\n",
      " ['4']\n",
      " ['4']\n",
      " ['6']\n",
      " ['3']\n",
      " ['4']\n",
      " ['3']\n",
      " ['2']\n",
      " ['0']\n",
      " ['4']\n",
      " ['1']\n",
      " ['4']\n",
      " ['7']\n",
      " ['7']\n",
      " ['2']\n",
      " ['9']\n",
      " ['2']\n",
      " ['7']\n",
      " ['9']\n",
      " ['2']\n",
      " ['4']\n",
      " ['3']\n",
      " ['0']\n",
      " ['7']\n",
      " ['0']\n",
      " ['2']\n",
      " ['8']\n",
      " ['1']\n",
      " ['7']\n",
      " ['3']\n",
      " ['7']\n",
      " ['9']\n",
      " ['7']\n",
      " ['9']\n",
      " ['6']\n",
      " ['2']\n",
      " ['7']\n",
      " ['4']\n",
      " ['4']\n",
      " ['7']\n",
      " ['3']\n",
      " ['6']\n",
      " ['1']\n",
      " ['3']\n",
      " ['6']\n",
      " ['9']\n",
      " ['3']\n",
      " ['1']\n",
      " ['4']\n",
      " ['1']\n",
      " ['9']\n",
      " ['6']\n",
      " ['4']\n",
      " ['2']\n",
      " ['0']\n",
      " ['3']\n",
      " ['4']\n",
      " ['4']\n",
      " ['4']\n",
      " ['2']\n",
      " ['1']\n",
      " ['9']\n",
      " ['4']\n",
      " ['8']\n",
      " ['1']\n",
      " ['3']\n",
      " ['9']\n",
      " ['9']\n",
      " ['9']\n",
      " ['9']\n",
      " ['4']\n",
      " ['9']\n",
      " ['2']\n",
      " ['3']\n",
      " ['6']\n",
      " ['3']\n",
      " ['6']\n",
      " ['7']\n",
      " ['4']\n",
      " ['2']\n",
      " ['9']\n",
      " ['8']\n",
      " ['8']\n",
      " ['6']\n",
      " ['6']\n",
      " ['3']\n",
      " ['2']\n",
      " ['8']\n",
      " ['1']\n",
      " ['0']\n",
      " ['1']\n",
      " ['6']\n",
      " ['4']\n",
      " ['6']\n",
      " ['7']\n",
      " ['3']\n",
      " ['1']\n",
      " ['9']\n",
      " ['1']\n",
      " ['9']\n",
      " ['2']\n",
      " ['0']\n",
      " ['4']\n",
      " ['4']\n",
      " ['2']\n",
      " ['9']\n",
      " ['3']\n",
      " ['1']\n",
      " ['5']\n",
      " ['6']\n",
      " ['0']\n",
      " ['3']\n",
      " ['9']\n",
      " ['4']\n",
      " ['6']\n",
      " ['3']\n",
      " ['4']\n",
      " ['6']\n",
      " ['3']\n",
      " ['4']\n",
      " ['4']\n",
      " ['1']\n",
      " ['9']\n",
      " ['4']\n",
      " ['8']\n",
      " ['2']\n",
      " ['3']\n",
      " ['2']\n",
      " ['1']\n",
      " ['1']\n",
      " ['9']\n",
      " ['1']\n",
      " ['8']\n",
      " ['1']\n",
      " ['3']\n",
      " ['9']\n",
      " ['0']\n",
      " ['8']\n",
      " ['9']\n",
      " ['2']\n",
      " ['3']\n",
      " ['0']\n",
      " ['1']\n",
      " ['1']\n",
      " ['1']\n",
      " ['0']\n",
      " ['3']\n",
      " ['0']\n",
      " ['3']\n",
      " ['1']\n",
      " ['6']\n",
      " ['9']\n",
      " ['2']]\n"
     ]
    }
   ],
   "source": [
    "#predict label\n",
    "predicted_y = clf.predict(x_test)\n",
    "print(predicted_y)  "
   ]
  },
  {
   "cell_type": "code",
   "execution_count": 14,
   "metadata": {
    "colab": {
     "base_uri": "https://localhost:8080/"
    },
    "id": "oFSh69lSNUcX",
    "outputId": "7fc93390-c71d-4aeb-e42c-677070da795b"
   },
   "outputs": [
    {
     "name": "stdout",
     "output_type": "stream",
     "text": [
      "WARNING:tensorflow:5 out of the last 8 calls to <function Model.make_test_function.<locals>.test_function at 0x000001E741FD5B20> triggered tf.function retracing. Tracing is expensive and the excessive number of tracings could be due to (1) creating @tf.function repeatedly in a loop, (2) passing tensors with different shapes, (3) passing Python objects instead of tensors. For (1), please define your @tf.function outside of the loop. For (2), @tf.function has reduce_retracing=True option that can avoid unnecessary retracing. For (3), please refer to https://www.tensorflow.org/guide/function#controlling_retracing and https://www.tensorflow.org/api_docs/python/tf/function for  more details.\n"
     ]
    },
    {
     "name": "stderr",
     "output_type": "stream",
     "text": [
      "WARNING:tensorflow:5 out of the last 8 calls to <function Model.make_test_function.<locals>.test_function at 0x000001E741FD5B20> triggered tf.function retracing. Tracing is expensive and the excessive number of tracings could be due to (1) creating @tf.function repeatedly in a loop, (2) passing tensors with different shapes, (3) passing Python objects instead of tensors. For (1), please define your @tf.function outside of the loop. For (2), @tf.function has reduce_retracing=True option that can avoid unnecessary retracing. For (3), please refer to https://www.tensorflow.org/guide/function#controlling_retracing and https://www.tensorflow.org/api_docs/python/tf/function for  more details.\n"
     ]
    },
    {
     "name": "stdout",
     "output_type": "stream",
     "text": [
      "7/7 [==============================] - 0s 6ms/step - loss: 1.0455 - accuracy: 0.6750\n",
      "[1.0454593896865845, 0.675000011920929]\n"
     ]
    }
   ],
   "source": [
    "#evaluate on test data\n",
    "print(clf.evaluate(x_test, y_test))"
   ]
  }
 ],
 "metadata": {
  "accelerator": "GPU",
  "colab": {
   "collapsed_sections": [],
   "name": "01_AutoML_Demo.ipynb",
   "provenance": []
  },
  "kernelspec": {
   "display_name": "Python 3",
   "language": "python",
   "name": "python3"
  },
  "language_info": {
   "codemirror_mode": {
    "name": "ipython",
    "version": 3
   },
   "file_extension": ".py",
   "mimetype": "text/x-python",
   "name": "python",
   "nbconvert_exporter": "python",
   "pygments_lexer": "ipython3",
   "version": "3.11.4"
  }
 },
 "nbformat": 4,
 "nbformat_minor": 1
}
