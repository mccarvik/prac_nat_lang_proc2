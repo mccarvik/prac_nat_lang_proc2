{
 "cells": [
  {
   "cell_type": "markdown",
   "metadata": {},
   "source": [
    "This notebook shows an example recommendation system using doc2vec. We will use a dataset called CMU Book summaries [dataset](http://www.cs.cmu.edu/~dbamman/booksummaries.html). Alternateively, the dataset's link can be found in the `BookSummaries_Link.md` file under the Data folder in Ch7.\n"
   ]
  },
  {
   "cell_type": "code",
   "execution_count": 1,
   "metadata": {},
   "outputs": [],
   "source": [
    "# !pip install gensim\n",
    "# !pip install nltk"
   ]
  },
  {
   "cell_type": "code",
   "execution_count": 2,
   "metadata": {},
   "outputs": [],
   "source": [
    "from nltk.tokenize import word_tokenize\n",
    "from gensim.models.doc2vec import Doc2Vec, TaggedDocument"
   ]
  },
  {
   "cell_type": "code",
   "execution_count": 3,
   "metadata": {},
   "outputs": [],
   "source": [
    "# Read the dataset’s README to understand the data format. \n",
    "\n",
    "data_path = \"../data/bigdata/booksumms/booksummaries.txt\"\n",
    "mydata = {} #titles-summaries dictionary object\n",
    "for line in open(data_path, encoding=\"utf-8\"):\n",
    "    temp = line.split(\"\\t\")\n",
    "    mydata[temp[2]] = temp[6]"
   ]
  },
  {
   "cell_type": "code",
   "execution_count": 7,
   "metadata": {},
   "outputs": [],
   "source": [
    "#prepare the data for doc2vec, build and save a doc2vec model\n",
    "train_doc2vec = [TaggedDocument((word_tokenize(mydata[t])), tags=[t]) for t in mydata.keys()]\n",
    "model = Doc2Vec(vector_size=50, alpha=0.025, min_count=10, dm =1, epochs=2)\n",
    "model.build_vocab(train_doc2vec)\n",
    "model.train(train_doc2vec, total_examples=model.corpus_count, epochs=model.epochs)\n",
    "model.save(\"../output/book_summ_d2v.model\")"
   ]
  },
  {
   "cell_type": "code",
   "execution_count": 9,
   "metadata": {},
   "outputs": [
    {
     "name": "stdout",
     "output_type": "stream",
     "text": [
      "[('The Old Red Hippopotamus', 0.7321776151657104), (\"Father Malachy's Miracle\", 0.6923838257789612), ('Dave at Night', 0.6897841095924377), ('Attica', 0.6746035218238831), ('No Thoroughfare', 0.6661922335624695), ('The Dressmaker of Khair Khana', 0.6614097952842712), ('The Extremes', 0.660919725894928), ('Wycliffe and the Cycle of Death', 0.6549147963523865), ('The Secret River', 0.6527315974235535), ('Wycliffe and the Winsor Blue', 0.6500592827796936)]\n"
     ]
    },
    {
     "name": "stderr",
     "output_type": "stream",
     "text": [
      "C:\\Users\\mccar\\AppData\\Local\\Temp\\ipykernel_2776\\3214559982.py:10: DeprecationWarning: Call to deprecated `docvecs` (The `docvecs` property has been renamed `dv`.).\n",
      "  sims = model.docvecs.most_similar([new_vector])\n"
     ]
    }
   ],
   "source": [
    "#Use the model to look for similar texts\n",
    "model= Doc2Vec.load(\"../output/book_summ_d2v.model\")\n",
    "\n",
    "#This is a sentence from the summary of “Animal Farm” on Wikipedia:\n",
    "#https://en.wikipedia.org/wiki/Animal_Farm\n",
    "sample = \"\"\"\n",
    "Napoleon enacts changes to the governance structure of the farm, replacing meetings with a committee of pigs who will run the farm.\n",
    " \"\"\"\n",
    "new_vector = model.infer_vector(word_tokenize(sample))\n",
    "sims = model.docvecs.most_similar([new_vector])\n",
    "print(sims)"
   ]
  }
 ],
 "metadata": {
  "kernelspec": {
   "display_name": "Python 3",
   "language": "python",
   "name": "python3"
  },
  "language_info": {
   "codemirror_mode": {
    "name": "ipython",
    "version": 3
   },
   "file_extension": ".py",
   "mimetype": "text/x-python",
   "name": "python",
   "nbconvert_exporter": "python",
   "pygments_lexer": "ipython3",
   "version": "3.11.4"
  }
 },
 "nbformat": 4,
 "nbformat_minor": 4
}
