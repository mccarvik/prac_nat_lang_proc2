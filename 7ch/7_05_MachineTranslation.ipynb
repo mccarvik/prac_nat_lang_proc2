{
 "cells": [
  {
   "cell_type": "markdown",
   "metadata": {},
   "source": [
    "This piece of code demonstrates using the Machine Translation service provided by Microsoft's Azure Cognitive services API "
   ]
  },
  {
   "cell_type": "code",
   "execution_count": 1,
   "metadata": {},
   "outputs": [],
   "source": [
    "# !pip install requests"
   ]
  },
  {
   "cell_type": "code",
   "execution_count": 4,
   "metadata": {},
   "outputs": [],
   "source": [
    "import os, requests, uuid, json"
   ]
  },
  {
   "cell_type": "code",
   "execution_count": null,
   "metadata": {},
   "outputs": [],
   "source": [
    "# This was Bing Translator API - now it is Microsoft Translator API and its no longer free\n",
    "\n",
    "# You will need a subscription key - you can use trial version\n",
    "# This will be user based\n",
    "\n",
    "subscription_key = \"XXXX\"\n",
    "endpoint = \"https://api-nam.cognitive.microsofttranslator.com\"\n",
    "path = '/translate?api-version=3.0'\n",
    "params = '&to=de' #From English to German (de)\n",
    "constructed_url = endpoint + path + params"
   ]
  },
  {
   "cell_type": "code",
   "execution_count": null,
   "metadata": {},
   "outputs": [],
   "source": [
    "headers = {\n",
    "    'Ocp-Apim-Subscription-Key': subscription_key,\n",
    "    'Content-type': 'application/json',\n",
    "    'X-ClientTraceId': str(uuid.uuid4())\n",
    "}\n",
    "\n",
    "body = [{'text' : 'How good is Machine Translation?'}]\n",
    "request = requests.post(constructed_url, headers=headers, json=body)\n",
    "response = request.json()\n",
    "\n",
    "print(json.dumps(response, sort_keys=True, indent=4, separators=(',', ': ')))\n"
   ]
  },
  {
   "cell_type": "code",
   "execution_count": null,
   "metadata": {},
   "outputs": [],
   "source": [
    "Google Cloud also has a translate service, which can be explored as an additional exercise.\n",
    "#todo: get a trial subscription key and show output for this, and perhaps add google example code from: https://cloud.google.com/translate/docs"
   ]
  }
 ],
 "metadata": {
  "kernelspec": {
   "display_name": "Python 3",
   "language": "python",
   "name": "python3"
  },
  "language_info": {
   "codemirror_mode": {
    "name": "ipython",
    "version": 3
   },
   "file_extension": ".py",
   "mimetype": "text/x-python",
   "name": "python",
   "nbconvert_exporter": "python",
   "pygments_lexer": "ipython3",
   "version": "3.11.4"
  }
 },
 "nbformat": 4,
 "nbformat_minor": 4
}
